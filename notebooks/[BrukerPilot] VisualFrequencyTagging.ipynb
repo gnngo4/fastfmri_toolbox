{
 "cells": [
  {
   "cell_type": "markdown",
   "id": "e5211d7c",
   "metadata": {},
   "source": [
    "- main runs = VD\n",
    "- reverse runs = DV\n",
    "- TODO: LIVE MAPPING VISUAL BLOCK ANALYSIS ON WHOLE BRAIN\n",
    "- Correct slice thickness (alex said some stuff) \n",
    "- Correct position of the coil to see both eyes\n",
    "- Try LCD on Friday, if not done already\n",
    "- Design stimulus on LCD\n",
    "- Container environment\n",
    "    - FSL, Freesurfer, AFNI, ANTS[latest:2.4.3], c3d, workbench\n",
    "    - python\n",
    "        - jupyterlab, numpy, nibabel, nilearn, scikit-learn, pandas, matplotlib, astropy, sklearn, \n",
    "        - to add: nipype, niworkflows, scipy\n",
    "- 9.4T description info:\n",
    "    - task info\n",
    "    - distortion direction\n",
    "    - resolution "
   ]
  },
  {
   "cell_type": "code",
   "execution_count": null,
   "id": "52e4e844",
   "metadata": {},
   "outputs": [],
   "source": [
    "from pathlib import Path\n",
    "test_dir='/data/mouse_data/bids/derivatives/notebook_analysis/TEST'\n",
    "!rm -rf {test_dir}\n",
    "Path(test_dir).mkdir(parents=True,exist_ok=True)"
   ]
  },
  {
   "cell_type": "code",
   "execution_count": null,
   "id": "d2e2f582",
   "metadata": {},
   "outputs": [],
   "source": [
    "from IPython.display import display, HTML\n",
    "display(HTML(\"<style>.container { width:100% !important; }</style>\"))\n",
    "\n",
    "import sys\n",
    "\n",
    "sys.path.append('/opt/app')\n",
    "\n",
    "from fastfmri_toolbox.modelling.design_matrix import DesignMatrix\n",
    "from fastfmri_toolbox.modelling.first_level_analysis import FirstLevelAnalysis\n",
    "\n",
    "import nibabel as nib"
   ]
  },
  {
   "cell_type": "code",
   "execution_count": null,
   "id": "61fc05e0",
   "metadata": {},
   "outputs": [],
   "source": [
    "def plot_slices(nifti_path,overlay=None,title='',z_threshold = 2.,_cmap='magma', underlay_vmax=30000,overlay_type='scatter'):\n",
    "    import nibabel as nib\n",
    "    import numpy as np\n",
    "    import matplotlib.pyplot as plt\n",
    "    import matplotlib.cm as cm\n",
    "\n",
    "    nii = nib.load(nifti_path)\n",
    "    data = nii.get_fdata()\n",
    "    \n",
    "    for z in range(data.shape[2]):\n",
    "        if z % 5 == 0:\n",
    "            fig, axs = plt.subplots(nrows=1, ncols=5, figsize=(12, 3))\n",
    "    \n",
    "\n",
    "        im1 = axs[z % 5].imshow(data[:, :, z], cmap='gray',vmax=underlay_vmax)\n",
    "        if overlay is not None:\n",
    "            overlay_data = nib.load(overlay).get_fdata()\n",
    "            cmap = np.zeros_like(overlay_data)\n",
    "            overlay_coords = np.where(overlay_data>z_threshold)\n",
    "            cmap[overlay_coords] = overlay_data[overlay_coords]\n",
    "            \n",
    "            # overlaid imshow\n",
    "            if overlay_type == 'imshow':\n",
    "                im2 = axs[z % 5].imshow(cmap[:, :, z], cmap=_cmap, alpha=.5)\n",
    "            \n",
    "            # Scatter plot\n",
    "            if overlay_type == 'scatter':\n",
    "                _xs, _ys, _zs = overlay_coords[1], overlay_coords[0], overlay_coords[2]\n",
    "                x_coords_z_slice, y_coords_z_slice, intensities = [], [], []\n",
    "                for _x, _y, _z in zip(_xs,_ys,_zs):\n",
    "                    if _z == z:\n",
    "                        x_coords_z_slice.append(_x-.25)\n",
    "                        y_coords_z_slice.append(_y-.25)\n",
    "                        intensities.append(overlay_data[_y,_x,_z])\n",
    "                scatter = axs[z % 5].scatter(\n",
    "                    x_coords_z_slice,\n",
    "                    y_coords_z_slice,\n",
    "                    c=intensities,\n",
    "                    s=3.,\n",
    "                    cmap=_cmap,\n",
    "                    vmin=0,\n",
    "                    vmax=overlay_data.max(),\n",
    "                )\n",
    "                # Create a ScalarMappable object for the colorbar\n",
    "                try:\n",
    "                    sm = cm.ScalarMappable(\n",
    "                        cmap=_cmap, \n",
    "                        norm=plt.Normalize(\n",
    "                            vmin=0,\n",
    "                            vmax=overlay_data.max(),\n",
    "                        )\n",
    "                    )\n",
    "                    sm._A = []  # Needed for matplotlib v3.3 and above\n",
    "                    # Add a colorbar to the plot\n",
    "                    cbar = fig.colorbar(sm, ax=axs[z%5])\n",
    "                except:\n",
    "                    pass\n",
    "\n",
    "        axs[z % 5].axis('off')\n",
    "        try:\n",
    "            fig.suptitle(f\"{title}\\nMax Z-score: {overlay_data.max():.2f}\")\n",
    "        except:\n",
    "            fig.suptitle(f\"{title}\")\n",
    "\n",
    "        if (z + 1) % 5 == 0 or z == data.shape[2] - 1:\n",
    "            plt.tight_layout()\n",
    "            plt.show()"
   ]
  },
  {
   "cell_type": "markdown",
   "id": "d5b61175",
   "metadata": {},
   "source": [
    "#### Get data and create masks"
   ]
  },
  {
   "cell_type": "code",
   "execution_count": null,
   "id": "b040b761",
   "metadata": {},
   "outputs": [],
   "source": [
    "frequency_encoding_runs = !ls /data/mouse_data/bids/sub-06393073M/ses-Pilot01/func/*VisualFT*.nii.gz\n",
    "\n",
    "mm = .5\n",
    "sigma = mm / 2.355\n",
    "masks, tmeans, smooth_bolds = [], [], []\n",
    "for p in frequency_encoding_runs:\n",
    "    \n",
    "    p = Path(p)\n",
    "    basename = p.stem.split('.nii')[0]\n",
    "    \n",
    "    smooth_name = f\"{test_dir}/{basename.replace('bold','smoothedbold')}.nii.gz\"\n",
    "    !fslmaths {p} -s {sigma} {smooth_name}\n",
    "    assert Path(smooth_name).exists(),f\"{smooth_name} does not exist.\"\n",
    "    \n",
    "    tmean_name = f\"{test_dir}/{basename.replace('bold','tmean')}.nii.gz\"\n",
    "    !fslmaths {p} -Tmean {tmean_name}\n",
    "    assert Path(tmean_name).exists(),f\"{tmean_name} does not exist.\"\n",
    "    \n",
    "    mask_name = f\"{test_dir}/{basename.replace('bold','mask')}.nii.gz\"\n",
    "    !fslmaths {p} -Tmean -bin {mask_name}\n",
    "    assert Path(mask_name).exists(),f\"{mask_name} does not exist.\"\n",
    "    \n",
    "    smooth_bolds.append(smooth_name)\n",
    "    tmeans.append(tmean_name)\n",
    "    masks.append(mask_name)\n"
   ]
  },
  {
   "cell_type": "code",
   "execution_count": null,
   "id": "38851f0c",
   "metadata": {},
   "outputs": [],
   "source": [
    "smooth_bolds"
   ]
  },
  {
   "cell_type": "code",
   "execution_count": null,
   "id": "6822ab8d",
   "metadata": {},
   "outputs": [],
   "source": [
    "avg = '/data/mouse_data/bids/derivatives/notebook_analysis/TEST/sub-06393073M_ses-Pilot01_task-TEST02VisualFT_dir-AP_run-N3AVERAGE_smoothedbold.nii.gz'\n",
    "!fslmaths \\\n",
    "    {smooth_bolds[4]} \\\n",
    "    -add {smooth_bolds[5]} \\\n",
    "    -add {smooth_bolds[6]} \\\n",
    "    -div 3 \\\n",
    "    {avg}\n",
    "\n",
    "smooth_bolds.append(avg)\n",
    "tmeans.append(tmean_name)\n",
    "masks.append(mask_name)"
   ]
  },
  {
   "cell_type": "markdown",
   "id": "c56a0e34",
   "metadata": {},
   "source": [
    "#### Test plotting"
   ]
  },
  {
   "cell_type": "code",
   "execution_count": null,
   "id": "eba7b34d",
   "metadata": {},
   "outputs": [],
   "source": [
    "plot_slices(tmeans[6],title='Temporal mean')"
   ]
  },
  {
   "cell_type": "markdown",
   "id": "0a220b56",
   "metadata": {},
   "source": [
    "#### Get z-score"
   ]
  },
  {
   "cell_type": "code",
   "execution_count": null,
   "id": "f3830e57",
   "metadata": {},
   "outputs": [],
   "source": [
    "%%time\n",
    "\n",
    "search_frequencies = [.2]\n",
    "\n",
    "run_one = False\n",
    "for ix, (run, mask) in enumerate(zip(smooth_bolds,masks)):\n",
    "    # Get run info to calculate time window, a beginning time of 40s is arbitrarily chosen\n",
    "    img = nib.load(run)\n",
    "    tr = img.header.get_zooms()[-1]\n",
    "    n_vols = img.shape[-1]\n",
    "    \n",
    "    time_window = (\n",
    "        50, \n",
    "        int(tr*n_vols)\n",
    "    )\n",
    "    dm = DesignMatrix(time_window, search_frequencies, bold_path=run)\n",
    "    design_matrix = dm.build_design_matrix()\n",
    "\n",
    "    fla = FirstLevelAnalysis(\n",
    "        derivatives_dir = test_dir,\n",
    "        bold_path = run,\n",
    "        mask_path = mask,\n",
    "        design_matrix = design_matrix,\n",
    "        time_window = time_window,\n",
    "        search_frequencies = search_frequencies\n",
    "    )\n",
    "    fla.run_frequency_glm(save_windowed_bold = True, save_predicted = True, save_residual = True)\n",
    "    \n",
    "    if ix == 0 and run_one:\n",
    "        break"
   ]
  },
  {
   "cell_type": "code",
   "execution_count": null,
   "id": "b6f89b11",
   "metadata": {
    "scrolled": false
   },
   "outputs": [],
   "source": [
    "!tree {test_dir}"
   ]
  },
  {
   "cell_type": "code",
   "execution_count": null,
   "id": "72ccb624",
   "metadata": {},
   "outputs": [],
   "source": [
    "z_scores = !ls {test_dir}/sub-06393073M/ses-Pilot01/task-*/*/GLM/frequency-0.2_z_score.nii.gz\n",
    "z_scores"
   ]
  },
  {
   "cell_type": "code",
   "execution_count": null,
   "id": "2b81e6e8",
   "metadata": {
    "scrolled": false
   },
   "outputs": [],
   "source": [
    "for ix, (run, tmean,mask,z_score) in enumerate(zip(smooth_bolds,tmeans,masks,z_scores)):\n",
    "    plot_slices(tmean,z_score,title=Path(run).stem.split('.nii')[0],z_threshold=2.,_cmap='magma',overlay_type='scatter')"
   ]
  },
  {
   "cell_type": "code",
   "execution_count": null,
   "id": "a3566b6a",
   "metadata": {},
   "outputs": [],
   "source": [
    "\"\"\"_dm = dm.build_design_matrix()\n",
    "_dm.iloc[:20]\"\"\""
   ]
  },
  {
   "cell_type": "code",
   "execution_count": null,
   "id": "8ca7f642",
   "metadata": {},
   "outputs": [],
   "source": [
    "!ls /data/mouse_data/bids"
   ]
  },
  {
   "cell_type": "code",
   "execution_count": null,
   "id": "cbeff7cb",
   "metadata": {},
   "outputs": [],
   "source": []
  }
 ],
 "metadata": {
  "kernelspec": {
   "display_name": "Python 3 (ipykernel)",
   "language": "python",
   "name": "python3"
  },
  "language_info": {
   "codemirror_mode": {
    "name": "ipython",
    "version": 3
   },
   "file_extension": ".py",
   "mimetype": "text/x-python",
   "name": "python",
   "nbconvert_exporter": "python",
   "pygments_lexer": "ipython3",
   "version": "3.10.6"
  }
 },
 "nbformat": 4,
 "nbformat_minor": 5
}
