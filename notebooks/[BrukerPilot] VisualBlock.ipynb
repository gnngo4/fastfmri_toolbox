{
 "cells": [
  {
   "cell_type": "markdown",
   "id": "6fdfcd2f",
   "metadata": {},
   "source": [
    "Plotting function"
   ]
  },
  {
   "cell_type": "code",
   "execution_count": null,
   "id": "94d3a926",
   "metadata": {},
   "outputs": [],
   "source": [
    "def plot_slices(nifti_path,overlay=None,title='',z_threshold = 2.,_cmap='magma', underlay_vmax=30000,overlay_type='scatter',figsize=(12,3),scatter_s_size=3.):\n",
    "    import nibabel as nib\n",
    "    import numpy as np\n",
    "    import matplotlib.pyplot as plt\n",
    "    import matplotlib.cm as cm\n",
    "\n",
    "    data = nifti_path.get_fdata()\n",
    "    \n",
    "    z_dim = data.shape[2]\n",
    "    nrows = int(z_dim/5) + 1\n",
    "    if nrows <= 1:\n",
    "        nrows = 2\n",
    "    rowcount = 0\n",
    "    for z in range(z_dim):\n",
    "        if z == 0:\n",
    "            fig, axs = plt.subplots(nrows=nrows, ncols=5, figsize=figsize)\n",
    "            \n",
    "        if z >= 5 and (z % 5) == 0:\n",
    "            rowcount += 1\n",
    "\n",
    "        im1 = axs[rowcount,z % 5].imshow(data[:, :, z], cmap='gray',vmax=underlay_vmax)\n",
    "        axs[rowcount,z % 5].text(2,6,s=f\"z={z}\",c='white',fontsize=20)\n",
    "        if overlay is not None:\n",
    "            overlay_data = overlay.get_fdata()\n",
    "            cmap = np.zeros_like(overlay_data)\n",
    "            overlay_coords = np.where(overlay_data>z_threshold)\n",
    "            cmap[overlay_coords] = overlay_data[overlay_coords]\n",
    "            \n",
    "            # overlaid imshow\n",
    "            if overlay_type == 'imshow':\n",
    "                im2 = axs[rowcount,z % 5].imshow(cmap[:, :, z], cmap=_cmap, alpha=.5)\n",
    "            \n",
    "            # Scatter plot\n",
    "            if overlay_type == 'scatter':\n",
    "                _xs, _ys, _zs = overlay_coords[1], overlay_coords[0], overlay_coords[2]\n",
    "                x_coords_z_slice, y_coords_z_slice, intensities = [], [], []\n",
    "                for _x, _y, _z in zip(_xs,_ys,_zs):\n",
    "                    if _z == z:\n",
    "                        x_coords_z_slice.append(_x-.25)\n",
    "                        y_coords_z_slice.append(_y-.25)\n",
    "                        intensities.append(overlay_data[_y,_x,_z])\n",
    "                scatter = axs[rowcount,z % 5].scatter(\n",
    "                    x_coords_z_slice,\n",
    "                    y_coords_z_slice,\n",
    "                    c=intensities,\n",
    "                    s=scatter_s_size,\n",
    "                    cmap=_cmap,\n",
    "                    vmin=0,\n",
    "                    vmax=overlay_data.max(),\n",
    "                )\n",
    "                # Create a ScalarMappable object for the colorbar\n",
    "                try:\n",
    "                    sm = cm.ScalarMappable(\n",
    "                        cmap=_cmap, \n",
    "                        norm=plt.Normalize(\n",
    "                            vmin=0,\n",
    "                            vmax=overlay_data.max(),\n",
    "                        )\n",
    "                    )\n",
    "                    sm._A = []  # Needed for matplotlib v3.3 and above\n",
    "                    # Add a colorbar to the plot\n",
    "                    cbar = fig.colorbar(sm, ax=axs[rowcount,z % 5])\n",
    "                except:\n",
    "                    pass\n",
    "\n",
    "        axs[rowcount,z % 5].axis('off')\n",
    "        try:\n",
    "            fig.suptitle(f\"{title}\\nMax Z-score: {overlay_data.max():.2f}\")\n",
    "        except:\n",
    "            fig.suptitle(f\"{title}\")\n",
    "    \n",
    "    fig.tight_layout()"
   ]
  },
  {
   "cell_type": "markdown",
   "id": "0a002200",
   "metadata": {},
   "source": [
    "Get all data"
   ]
  },
  {
   "cell_type": "code",
   "execution_count": null,
   "id": "6acf24fc",
   "metadata": {},
   "outputs": [],
   "source": [
    "# get all niftis across datasets\n",
    "niftis_1 = !ls /data/mouse_data/bids_visualblock/sub-43393072F/ses-06/func/*nii.gz\n",
    "niftis_2 = !ls /data/mouse_data/bids/sub-06393073M/ses-Pilot01/func/*TEST0?VisualBlock*nii.gz\n",
    "niftis = niftis_1 + niftis_2\n",
    "\n",
    "# get a single tsv file\n",
    "event_tsvs = !ls /data/mouse_data/bids_visualblock/sub-43393072F/ses-06/func/*tsv\n",
    "event_tsv = event_tsvs[0]\n",
    "\n",
    "niftis, event_tsv"
   ]
  },
  {
   "cell_type": "markdown",
   "id": "efd0f12c",
   "metadata": {},
   "source": [
    "Get data ready"
   ]
  },
  {
   "cell_type": "code",
   "execution_count": null,
   "id": "af9d2f62",
   "metadata": {},
   "outputs": [],
   "source": [
    "import pandas as pd\n",
    "import nibabel as nib\n",
    "import numpy as np\n",
    "from nilearn import image, masking\n",
    "\n",
    "idx = 5\n",
    "\n",
    "fmri_img = nib.load(niftis[idx])\n",
    "\n",
    "mean_img = image.mean_img(fmri_img)\n",
    "mask = np.zeros(mean_img.get_fdata().shape) + 1\n",
    "mask = nib.Nifti1Image(mask,mean_img.affine,mean_img.header)\n",
    "\n",
    "fmri_img = image.clean_img(fmri_img,standardize=False)\n",
    "fmri_img = image.smooth_img(fmri_img,1.)\n",
    "\n",
    "events = pd.read_table(event_tsv)\n",
    "\n",
    "TR = fmri_img.header.get_zooms()[-1]\n",
    "\n",
    "print(f\"Nifti: {niftis[idx]}\\nEvents_tsv: {event_tsv}\\nTR: {TR}\")"
   ]
  },
  {
   "cell_type": "markdown",
   "id": "6f7a195f",
   "metadata": {},
   "source": [
    "Set-up GLM"
   ]
  },
  {
   "cell_type": "code",
   "execution_count": null,
   "id": "92b1b558",
   "metadata": {},
   "outputs": [],
   "source": [
    "from nilearn.glm.first_level import FirstLevelModel\n",
    "\n",
    "fmri_glm = FirstLevelModel(\n",
    "    t_r=TR,\n",
    "    drift_model=\"cosine\",\n",
    "    signal_scaling=False,\n",
    "    mask_img=mask,\n",
    "    minimize_memory=False,\n",
    ")\n",
    "\n",
    "fmri_glm = fmri_glm.fit(fmri_img, events)\n",
    "\n",
    "# Fit GLM\n",
    "z_map = fmri_glm.compute_contrast(\"visual_10Hz\")"
   ]
  },
  {
   "cell_type": "markdown",
   "id": "66a12fb9",
   "metadata": {},
   "source": [
    "Plot"
   ]
  },
  {
   "cell_type": "code",
   "execution_count": null,
   "id": "17067caf",
   "metadata": {},
   "outputs": [],
   "source": [
    "resize_factor = 4\n",
    "plot_slices(\n",
    "    mean_img,\n",
    "    z_map,\n",
    "    title=f\"IDX: {idx}\",\n",
    "    z_threshold=2.,\n",
    "    _cmap='magma',\n",
    "    overlay_type='scatter',\n",
    "    scatter_s_size=50,\n",
    "    underlay_vmax=mean_img.get_fdata().max(),\n",
    "    figsize=(6*resize_factor,5*resize_factor)\n",
    ")"
   ]
  },
  {
   "cell_type": "code",
   "execution_count": null,
   "id": "d965b319",
   "metadata": {},
   "outputs": [],
   "source": []
  }
 ],
 "metadata": {
  "kernelspec": {
   "display_name": "Python 3 (ipykernel)",
   "language": "python",
   "name": "python3"
  },
  "language_info": {
   "codemirror_mode": {
    "name": "ipython",
    "version": 3
   },
   "file_extension": ".py",
   "mimetype": "text/x-python",
   "name": "python",
   "nbconvert_exporter": "python",
   "pygments_lexer": "ipython3",
   "version": "3.10.6"
  }
 },
 "nbformat": 4,
 "nbformat_minor": 5
}
