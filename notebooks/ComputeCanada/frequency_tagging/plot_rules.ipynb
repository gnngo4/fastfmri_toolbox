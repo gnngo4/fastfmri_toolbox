{
 "cells": [
  {
   "cell_type": "code",
   "execution_count": null,
   "metadata": {},
   "outputs": [],
   "source": [
    "plotting = {\n",
    "    # General\n",
    "    \"FONTSIZE\": 6,\n",
    "    \"LINEWIDTH\": .4,\n",
    "    \"PAD\": (0,4),\n",
    "    \"DPI\": 300,\n",
    "    \"LAYOUT\": \"constrained\",\n",
    "    # Scatter\n",
    "    \"MARKERSIZE\": 8,\n",
    "    \"LINEWIDTHS\": .25,\n",
    "    \"EDGECOLORS\": \"k\",\n",
    "    # Plot\n",
    "    \"LINEWIDTH\": 1,\n",
    "    # Spines\n",
    "    \"LINEWIDTH\": .4\n",
    "    # Tick params\n",
    "    \"LENGTH\": 4,\n",
    "    \"WIDTH\": .4,\n",
    "    \"PAD\": .4\n",
    "    # Legend\n",
    "    \"FONTSIZE\": 6,\n",
    "\n",
    "}"
   ]
  }
 ],
 "metadata": {
  "language_info": {
   "name": "python"
  }
 },
 "nbformat": 4,
 "nbformat_minor": 2
}
