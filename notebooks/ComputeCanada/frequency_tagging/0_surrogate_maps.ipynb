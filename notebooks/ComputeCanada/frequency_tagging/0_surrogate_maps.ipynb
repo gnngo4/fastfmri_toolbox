{
 "cells": [
  {
   "cell_type": "code",
   "execution_count": null,
   "metadata": {},
   "outputs": [],
   "source": [
    "from brainsmash.workbench.geo import cortex\n",
    "from pathlib import Path"
   ]
  },
  {
   "cell_type": "code",
   "execution_count": null,
   "metadata": {},
   "outputs": [],
   "source": [
    "L_surf = \"/opt/app/notebooks/data/surfaces/S1200.L.midthickness_MSMAll.32k_fs_LR.surf.gii\"\n",
    "R_surf = \"/opt/app/notebooks/data/surfaces/S1200.R.midthickness_MSMAll.32k_fs_LR.surf.gii\"\n",
    "\n",
    "for surf in [L_surf, R_surf]:\n",
    "    assert Path(surf).exists(), f\"{surf} does not exist.\"\n",
    "    geodesic_txt = surf.replace(\".surf.gii\", \"_geodesic.txt\")\n",
    "    if Path(geodesic_txt).exists():\n",
    "        print(f\"{geodesic_txt} exists. Skipping.\")\n",
    "        continue\n",
    "    _ = cortex(surface=surf, outfile=geodesic_txt, euclid=False)"
   ]
  },
  {
   "cell_type": "code",
   "execution_count": null,
   "metadata": {},
   "outputs": [],
   "source": []
  }
 ],
 "metadata": {
  "kernelspec": {
   "display_name": "Python 3 (ipykernel)",
   "language": "python",
   "name": "python3"
  },
  "language_info": {
   "codemirror_mode": {
    "name": "ipython",
    "version": 3
   },
   "file_extension": ".py",
   "mimetype": "text/x-python",
   "name": "python",
   "nbconvert_exporter": "python",
   "pygments_lexer": "ipython3",
   "version": "3.10.12"
  }
 },
 "nbformat": 4,
 "nbformat_minor": 2
}
