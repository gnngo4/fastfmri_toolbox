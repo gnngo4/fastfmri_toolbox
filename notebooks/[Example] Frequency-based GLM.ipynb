{
 "cells": [
  {
   "cell_type": "code",
   "execution_count": 2,
   "id": "e80c67d1",
   "metadata": {},
   "outputs": [
    {
     "data": {
      "text/html": [
       "<style>.container { width:100% !important; }</style>"
      ],
      "text/plain": [
       "<IPython.core.display.HTML object>"
      ]
     },
     "metadata": {},
     "output_type": "display_data"
    }
   ],
   "source": [
    "from IPython.display import display, HTML\n",
    "display(HTML(\"<style>.container { width:100% !important; }</style>\"))"
   ]
  },
  {
   "cell_type": "code",
   "execution_count": 3,
   "id": "32a50fb7",
   "metadata": {},
   "outputs": [
    {
     "data": {
      "text/html": [
       "<style>.container { width:100% !important; }</style>"
      ],
      "text/plain": [
       "<IPython.core.display.HTML object>"
      ]
     },
     "metadata": {},
     "output_type": "display_data"
    }
   ],
   "source": [
    "from IPython.display import display, HTML\n",
    "display(HTML(\"<style>.container { width:100% !important; }</style>\"))\n",
    "\n",
    "import sys\n",
    "\n",
    "sys.path.append('/opt/app')\n",
    "\n",
    "from fastfmri_toolbox.modelling.design_matrix import DesignMatrix\n",
    "from fastfmri_toolbox.modelling.first_level_analysis import FirstLevelAnalysis"
   ]
  },
  {
   "cell_type": "code",
   "execution_count": 4,
   "id": "bd76c6cb",
   "metadata": {},
   "outputs": [
    {
     "name": "stderr",
     "output_type": "stream",
     "text": [
      "/usr/local/lib/python3.10/dist-packages/nilearn/_utils/glm.py:335: RuntimeWarning: divide by zero encountered in divide\n",
      "  return np.where(X <= 0, 0, 1. / X)\n"
     ]
    }
   ],
   "source": [
    "time_window = (40,199) # Window between these timepoints in seconds\n",
    "search_frequencies = [.2,.5]\n",
    "bold_path = '/data/1_frequency_tagging.7T.oscprep.sub-007/ses-03/func/sub-007_ses-03_task-entrainQ2_acq-mb4p2_dir-FH_run-02_space-T1w_desc-preproc_bold.nii.gz'\n",
    "mask_path = '/data/1_frequency_tagging.7T.oscprep.sub-007/ses-03/func/sub-007_ses-03_task-entrainQ2_acq-mb4p2_dir-FH_run-02_space-T1w_desc-boldref_brainmask.nii.gz'\n",
    "dm = DesignMatrix(time_window, search_frequencies, bold_path=bold_path)\n",
    "design_matrix = dm.build_design_matrix()\n",
    "\n",
    "fla = FirstLevelAnalysis(\n",
    "    derivatives_dir = '/data/FirstLevelAnalysis_single_run_test_1',\n",
    "    bold_path = bold_path,\n",
    "    mask_path = mask_path,\n",
    "    design_matrix = design_matrix,\n",
    "    time_window = time_window,\n",
    "    search_frequencies = search_frequencies\n",
    ")\n",
    "fla.run_frequency_glm(out_windowed_bold = True, out_predicted = True, out_residual = True)"
   ]
  },
  {
   "cell_type": "code",
   "execution_count": 5,
   "id": "cdf79f8e",
   "metadata": {},
   "outputs": [
    {
     "name": "stderr",
     "output_type": "stream",
     "text": [
      "/usr/local/lib/python3.10/dist-packages/nilearn/_utils/glm.py:335: RuntimeWarning: divide by zero encountered in divide\n",
      "  return np.where(X <= 0, 0, 1. / X)\n"
     ]
    }
   ],
   "source": [
    "time_window = (40,219) # Window between these timepoints in seconds\n",
    "search_frequencies = [.1]\n",
    "bold_path = '/data/1_attention.7T.oscprep.sub-000/ses-OPCoilCBLowerFrequencyPilot01/func/sub-000_ses-OPCoilCBLowerFrequencyPilot01_task-localizerQ1_acq-mb4_dir-RL_run-01_space-T1w_desc-preproc_bold.nii.gz'\n",
    "mask_path = '/data/1_attention.7T.oscprep.sub-000/ses-OPCoilCBLowerFrequencyPilot01/func/sub-000_ses-OPCoilCBLowerFrequencyPilot01_task-localizerQ1_acq-mb4_dir-RL_run-01_space-T1w_desc-boldref_brainmask.nii.gz'\n",
    "dm = DesignMatrix(time_window, search_frequencies, bold_path=bold_path)\n",
    "design_matrix = dm.build_design_matrix()\n",
    "\n",
    "fla = FirstLevelAnalysis(\n",
    "    derivatives_dir = '/data/FirstLevelAnalysis_single_run_test_2',\n",
    "    bold_path = bold_path,\n",
    "    mask_path = mask_path,\n",
    "    design_matrix = design_matrix,\n",
    "    time_window = time_window,\n",
    "    search_frequencies = search_frequencies\n",
    ")\n",
    "fla.run_frequency_glm(out_windowed_bold = True, out_predicted = True, out_residual = True)"
   ]
  },
  {
   "cell_type": "code",
   "execution_count": 10,
   "id": "914370ce",
   "metadata": {},
   "outputs": [
    {
     "name": "stdout",
     "output_type": "stream",
     "text": [
      "\u001b[01;34m/data/FirstLevelAnalysis_single_run_test_2\u001b[0m\r\n",
      "└── \u001b[01;34msub-000\u001b[0m\r\n",
      "    └── \u001b[01;34mses-OPCoilCBLowerFrequencyPilot01\u001b[0m\r\n",
      "        └── \u001b[01;34mtask-localizerQ1\u001b[0m\r\n",
      "            └── \u001b[01;34mrun-01\u001b[0m\r\n",
      "                └── \u001b[01;34mGLM\u001b[0m\r\n",
      "                    ├── \u001b[01;31mbasis-cosine_f-0.1_effect_size.nii.gz\u001b[0m\r\n",
      "                    ├── \u001b[01;31mbasis-cosine_f-0.1_effect_variance.nii.gz\u001b[0m\r\n",
      "                    ├── \u001b[01;31mbasis-cosine_f-0.1_p_value.nii.gz\u001b[0m\r\n",
      "                    ├── \u001b[01;31mbasis-cosine_f-0.1_stat.nii.gz\u001b[0m\r\n",
      "                    ├── \u001b[01;31mbasis-cosine_f-0.1_z_score.nii.gz\u001b[0m\r\n",
      "                    ├── \u001b[01;31mbasis-sine_f-0.1_effect_size.nii.gz\u001b[0m\r\n",
      "                    ├── \u001b[01;31mbasis-sine_f-0.1_effect_variance.nii.gz\u001b[0m\r\n",
      "                    ├── \u001b[01;31mbasis-sine_f-0.1_p_value.nii.gz\u001b[0m\r\n",
      "                    ├── \u001b[01;31mbasis-sine_f-0.1_stat.nii.gz\u001b[0m\r\n",
      "                    ├── \u001b[01;31mbasis-sine_f-0.1_z_score.nii.gz\u001b[0m\r\n",
      "                    ├── \u001b[01;31mconstant_effect_size.nii.gz\u001b[0m\r\n",
      "                    ├── \u001b[01;31mconstant_effect_variance.nii.gz\u001b[0m\r\n",
      "                    ├── \u001b[01;31mconstant_p_value.nii.gz\u001b[0m\r\n",
      "                    ├── \u001b[01;31mconstant_stat.nii.gz\u001b[0m\r\n",
      "                    ├── \u001b[01;31mconstant_z_score.nii.gz\u001b[0m\r\n",
      "                    ├── \u001b[01;31mdrift-01_effect_size.nii.gz\u001b[0m\r\n",
      "                    ├── \u001b[01;31mdrift-01_effect_variance.nii.gz\u001b[0m\r\n",
      "                    ├── \u001b[01;31mdrift-01_p_value.nii.gz\u001b[0m\r\n",
      "                    ├── \u001b[01;31mdrift-01_stat.nii.gz\u001b[0m\r\n",
      "                    ├── \u001b[01;31mdrift-01_z_score.nii.gz\u001b[0m\r\n",
      "                    ├── \u001b[01;31mdrift-02_effect_size.nii.gz\u001b[0m\r\n",
      "                    ├── \u001b[01;31mdrift-02_effect_variance.nii.gz\u001b[0m\r\n",
      "                    ├── \u001b[01;31mdrift-02_p_value.nii.gz\u001b[0m\r\n",
      "                    ├── \u001b[01;31mdrift-02_stat.nii.gz\u001b[0m\r\n",
      "                    ├── \u001b[01;31mdrift-02_z_score.nii.gz\u001b[0m\r\n",
      "                    ├── \u001b[01;31mdrift-03_effect_size.nii.gz\u001b[0m\r\n",
      "                    ├── \u001b[01;31mdrift-03_effect_variance.nii.gz\u001b[0m\r\n",
      "                    ├── \u001b[01;31mdrift-03_p_value.nii.gz\u001b[0m\r\n",
      "                    ├── \u001b[01;31mdrift-03_stat.nii.gz\u001b[0m\r\n",
      "                    ├── \u001b[01;31mdrift-03_z_score.nii.gz\u001b[0m\r\n",
      "                    ├── \u001b[01;31mfrequency-0.1_effect_size.nii.gz\u001b[0m\r\n",
      "                    ├── \u001b[01;31mfrequency-0.1_effect_variance.nii.gz\u001b[0m\r\n",
      "                    ├── \u001b[01;31mfrequency-0.1_p_value.nii.gz\u001b[0m\r\n",
      "                    ├── \u001b[01;31mfrequency-0.1_stat.nii.gz\u001b[0m\r\n",
      "                    ├── \u001b[01;31mfrequency-0.1_z_score.nii.gz\u001b[0m\r\n",
      "                    ├── \u001b[01;31mpredicted_bold.nii.gz\u001b[0m\r\n",
      "                    ├── \u001b[01;31mresidual_bold.nii.gz\u001b[0m\r\n",
      "                    └── \u001b[01;31mwindowed_bold.nii.gz\u001b[0m\r\n",
      "\r\n",
      "5 directories, 38 files\r\n"
     ]
    }
   ],
   "source": [
    "!tree /data/FirstLevelAnalysis_single_run_test_2"
   ]
  }
 ],
 "metadata": {
  "kernelspec": {
   "display_name": "Python 3 (ipykernel)",
   "language": "python",
   "name": "python3"
  },
  "language_info": {
   "codemirror_mode": {
    "name": "ipython",
    "version": 3
   },
   "file_extension": ".py",
   "mimetype": "text/x-python",
   "name": "python",
   "nbconvert_exporter": "python",
   "pygments_lexer": "ipython3",
   "version": "3.10.6"
  }
 },
 "nbformat": 4,
 "nbformat_minor": 5
}
