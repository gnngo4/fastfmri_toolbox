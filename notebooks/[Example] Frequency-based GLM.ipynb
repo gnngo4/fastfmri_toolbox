{
 "cells": [
  {
   "cell_type": "code",
   "execution_count": 1,
   "id": "58835a1f",
   "metadata": {},
   "outputs": [],
   "source": [
    "!rm -rf /data/FirstLevelAnalysis_single_run_test_2"
   ]
  },
  {
   "cell_type": "code",
   "execution_count": 2,
   "id": "32a50fb7",
   "metadata": {},
   "outputs": [
    {
     "data": {
      "text/html": [
       "<style>.container { width:100% !important; }</style>"
      ],
      "text/plain": [
       "<IPython.core.display.HTML object>"
      ]
     },
     "metadata": {},
     "output_type": "display_data"
    }
   ],
   "source": [
    "from IPython.display import display, HTML\n",
    "display(HTML(\"<style>.container { width:100% !important; }</style>\"))\n",
    "\n",
    "import sys\n",
    "\n",
    "sys.path.append('/opt/app')\n",
    "\n",
    "from fastfmri_toolbox.modelling.design_matrix import DesignMatrix\n",
    "from fastfmri_toolbox.modelling.first_level_analysis import FirstLevelAnalysis"
   ]
  },
  {
   "cell_type": "code",
   "execution_count": null,
   "id": "318ece5d",
   "metadata": {},
   "outputs": [
    {
     "name": "stderr",
     "output_type": "stream",
     "text": [
      "/usr/local/lib/python3.10/dist-packages/nilearn/_utils/glm.py:335: RuntimeWarning: divide by zero encountered in divide\n",
      "  return np.where(X <= 0, 0, 1. / X)\n"
     ]
    }
   ],
   "source": [
    "time_window = (40,219) # Window between these timepoints in seconds\n",
    "search_frequencies = [.1]\n",
    "bold_path = '/data/1_attention.7T.oscprep.sub-000/ses-OPCoilCBLowerFrequencyPilot01/func/sub-000_ses-OPCoilCBLowerFrequencyPilot01_task-localizerQ1_acq-mb4_dir-RL_run-01_space-T1w_desc-preproc_bold.nii.gz'\n",
    "mask_path = '/data/1_attention.7T.oscprep.sub-000/ses-OPCoilCBLowerFrequencyPilot01/func/sub-000_ses-OPCoilCBLowerFrequencyPilot01_task-localizerQ1_acq-mb4_dir-RL_run-01_space-T1w_desc-boldref_brainmask.nii.gz'\n",
    "dm = DesignMatrix(time_window, search_frequencies, bold_path=bold_path)\n",
    "design_matrix = dm.build_design_matrix()\n",
    "\n",
    "fla = FirstLevelAnalysis(\n",
    "    derivatives_dir = '/data/FirstLevelAnalysis_single_run_test_2',\n",
    "    bold_path = bold_path,\n",
    "    mask_path = mask_path,\n",
    "    design_matrix = design_matrix,\n",
    "    time_window = time_window,\n",
    "    search_frequencies = search_frequencies\n",
    ")\n",
    "fla.run_frequency_glm(save_windowed_bold = True, save_predicted = True, save_residual = True)"
   ]
  },
  {
   "cell_type": "code",
   "execution_count": null,
   "id": "684e3125",
   "metadata": {},
   "outputs": [],
   "source": [
    "!tree /data/FirstLevelAnalysis_single_run_test_2"
   ]
  },
  {
   "cell_type": "markdown",
   "id": "6028d943",
   "metadata": {},
   "source": [
    "#### Plot phase shift"
   ]
  },
  {
   "cell_type": "code",
   "execution_count": null,
   "id": "c95865e6",
   "metadata": {},
   "outputs": [],
   "source": [
    "import matplotlib.pyplot as plt\n",
    "import nibabel as nib\n",
    "import numpy as np\n",
    "import pandas as pd\n",
    "\n",
    "TR = .3\n",
    "row_idx = 0\n",
    "frequency_of_interest = search_frequencies[0]\n",
    "\n",
    "# GLM directory\n",
    "glm_dir = '/data/FirstLevelAnalysis_single_run_test_2/sub-000/ses-OPCoilCBLowerFrequencyPilot01/task-localizerQ1/run-01/GLM'\n",
    "\n",
    "# get Z-score data of frequency fit\n",
    "z_score = nib.load(f\"{glm_dir}/frequency-{frequency_of_interest}_z_score.nii.gz\").get_fdata()\n",
    "# phi \n",
    "phase_angle = nib.load(f\"{glm_dir}/frequency-0.1_phaseshift.nii.gz\").get_fdata()\n",
    "\n",
    "# Coordinates of all voxels with 3> Z-score\n",
    "Z_thr = 3.\n",
    "coords = np.where(z_score > Z_thr)\n",
    "fitted_voxels_df = pd.DataFrame(\n",
    "    zip(\n",
    "        z_score[coords],\n",
    "        phase_angle[coords],\n",
    "        *(coords)\n",
    "    ),\n",
    "    columns=[\n",
    "        'z_score',\n",
    "        'phase_angle',\n",
    "        'x','y','z'\n",
    "    ]\n",
    ").sort_values(by='z_score',ascending=False).reset_index(drop=True)\n",
    "\n",
    "# Convert all phase angles to be negative\n",
    "# We are only interested in phase delays (negative values will shift the sine wave to the right)\n",
    "convert_to_positive_phase_angle = lambda x: x-(np.pi*2) if x > 0 else x\n",
    "fitted_voxels_df['phase_angle'] = fitted_voxels_df['phase_angle'].apply(convert_to_positive_phase_angle)\n",
    "\n",
    "for dim in ['x','y','z']:\n",
    "    fitted_voxels_df[dim] = fitted_voxels_df[dim].astype(int)\n",
    "    \n",
    "fitted_voxels_df"
   ]
  },
  {
   "cell_type": "code",
   "execution_count": null,
   "id": "735b1f1e",
   "metadata": {},
   "outputs": [],
   "source": [
    "t = dm._get_time_points(TR, time_window) # timepoints\n",
    "\n",
    "# BOLD response\n",
    "windowed = nib.load(f\"{glm_dir}/windowed_bold.nii.gz\").get_fdata()[\n",
    "    fitted_voxels_df['x'][row_idx],\n",
    "    fitted_voxels_df['y'][row_idx],\n",
    "    fitted_voxels_df['z'][row_idx],\n",
    "    :\n",
    "]\n",
    "\n",
    "# Predicted BOLD response\n",
    "predicted = nib.load(f\"{glm_dir}/predicted_bold.nii.gz\").get_fdata()[\n",
    "    fitted_voxels_df['x'][row_idx],\n",
    "    fitted_voxels_df['y'][row_idx],\n",
    "    fitted_voxels_df['z'][row_idx],\n",
    "    :\n",
    "]\n",
    "\n",
    "'''\n",
    "`stim_shift: phase shift to ensure the stimulus intensity begins at a minimum.\n",
    "`phase_offset`: phase shift required to align stimulus wave to the predicted bold wave.\n",
    "'''\n",
    "A_predicted = ( predicted.max() - predicted.min() ) / 2\n",
    "A_offset = ( predicted.max() + predicted.min() ) / 2\n",
    "phase_offset = fitted_voxels_df['phase_angle'][row_idx]\n",
    "phase_offset_s = phase_offset / (2 * np.pi * frequency_of_interest)\n",
    "stimulus_shift = -np.pi/2\n",
    "\n",
    "# Neural activity\n",
    "stim_wave = A_predicted* np.sin((2 * np.pi * frequency_of_interest * t) + stimulus_shift) + A_offset\n",
    "\n",
    "# Phase-shifted neural activity\n",
    "bold_wave = A_predicted * np.sin((2 * np.pi * frequency_of_interest * t) + stimulus_shift + phase_offset) + A_offset "
   ]
  },
  {
   "cell_type": "code",
   "execution_count": null,
   "id": "6cca8483",
   "metadata": {},
   "outputs": [],
   "source": [
    "# Figure\n",
    "fig, ax = plt.subplots(dpi = 200, figsize=(6,2))\n",
    "\n",
    "# Plot lines\n",
    "l1, = ax.plot(t,windowed,c='cyan',zorder=1,alpha=.4,lw=.75,\n",
    "             label='BOLD response')\n",
    "l2, = ax.plot(t,predicted,c='red',zorder=2,lw=2.,\n",
    "             label='Predicted BOLD response (Modelled)')\n",
    "l3, = ax.plot(t,stim_wave,c='k',zorder=3,linestyle='--',lw=1.,alpha=.4,\n",
    "             label='Neural activity')\n",
    "l4, = ax.plot(t,bold_wave,c='k',zorder=4,linestyle='--',lw=1.,\n",
    "             label='Phase-shifted neural activity')\n",
    "\n",
    "# Legend\n",
    "ax.legend(\n",
    "    handles=[l1,l2,l3,l4],\n",
    "    loc='upper right',\n",
    "    bbox_to_anchor=(1.,1.),\n",
    "    fontsize=5,\n",
    "    frameon=True,\n",
    "    framealpha=1.,\n",
    "    edgecolor='k',\n",
    "    fancybox=False,\n",
    ")\n",
    "\n",
    "# Phase delay arrow\n",
    "head_length, head_width = 1., 10.\n",
    "ax.arrow(\n",
    "    0,\n",
    "    stim_wave.min() - stim_wave.min()*.005,\n",
    "    (-1*phase_offset_s)-head_length,\n",
    "    0,\n",
    "    head_width=10.,\n",
    "    head_length=head_length,fc='blue',ec='blue',lw=1.\n",
    ")\n",
    "ax.text(\n",
    "    0,\n",
    "    stim_wave.min() - stim_wave.min()*.012,\n",
    "    f'{(-1 * phase_offset_s):.2f} s',\n",
    "    fontsize=5,c='blue'\n",
    ")"
   ]
  },
  {
   "cell_type": "code",
   "execution_count": null,
   "id": "202ab83e",
   "metadata": {},
   "outputs": [],
   "source": []
  }
 ],
 "metadata": {
  "kernelspec": {
   "display_name": "Python 3 (ipykernel)",
   "language": "python",
   "name": "python3"
  },
  "language_info": {
   "codemirror_mode": {
    "name": "ipython",
    "version": 3
   },
   "file_extension": ".py",
   "mimetype": "text/x-python",
   "name": "python",
   "nbconvert_exporter": "python",
   "pygments_lexer": "ipython3",
   "version": "3.10.6"
  }
 },
 "nbformat": 4,
 "nbformat_minor": 5
}
