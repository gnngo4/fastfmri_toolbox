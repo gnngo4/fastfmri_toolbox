{
 "cells": [
  {
   "cell_type": "code",
   "execution_count": 1,
   "id": "92616ceb",
   "metadata": {},
   "outputs": [
    {
     "name": "stdout",
     "output_type": "stream",
     "text": [
      "rm: cannot remove '/tmp/*nii*': No such file or directory\r\n"
     ]
    }
   ],
   "source": [
    "out_dir='/data/fastfmri_toolbox_test_data/oscprep_grayords_fmapless/first_level_analysis'\n",
    "!rm -rf {out_dir} {out_dir}_NIFTI {out_dir}_CIFTI\n",
    "!rm /tmp/*nii*"
   ]
  },
  {
   "cell_type": "code",
   "execution_count": 2,
   "id": "32a50fb7",
   "metadata": {},
   "outputs": [
    {
     "data": {
      "text/html": [
       "<style>.container { width:100% !important; }</style>"
      ],
      "text/plain": [
       "<IPython.core.display.HTML object>"
      ]
     },
     "metadata": {},
     "output_type": "display_data"
    }
   ],
   "source": [
    "from IPython.display import display, HTML\n",
    "display(HTML(\"<style>.container { width:100% !important; }</style>\"))\n",
    "\n",
    "import sys, os\n",
    "\n",
    "sys.path.append('/opt/app')\n",
    "\n",
    "from pathlib import Path\n",
    "\n",
    "# For plotting\n",
    "cm = 1/2.54"
   ]
  },
  {
   "cell_type": "code",
   "execution_count": 3,
   "id": "51505f47",
   "metadata": {},
   "outputs": [],
   "source": [
    "oscprep_dir = \"/data/fastfmri_toolbox_test_data/oscprep_grayords_fmapless\"\n",
    "sub_dir = 'bold_preproc'\n",
    "\n",
    "# bold labels\n",
    "sub_id = '002'\n",
    "ses_id = '01'\n",
    "task_id = 'entrainQ1'\n",
    "run_id = '01'\n",
    "\n",
    "# task parameters\n",
    "search_frequencies = [.125, .2]\n",
    "time_window = (40, 14+205) # seconds\n",
    "\n",
    "bold_nifti_path = Path(\n",
    "    f\"/data/fastfmri_toolbox_test_data/oscprep_grayords_fmapless/bold_preproc/sub-{sub_id}/\" \\\n",
    "    f\"ses-{ses_id}/func/sub-{sub_id}_ses-{ses_id}_task-{task_id}_acq-mb4_dir-RL_run-{run_id}\" \\\n",
    "    \"_space-T1w_desc-preproc_bold.nii.gz\"\n",
    ")\n",
    "mask_nifti_path = Path(\n",
    "    f\"/data/fastfmri_toolbox_test_data/oscprep_grayords_fmapless/bold_preproc/sub-{sub_id}/\" \\\n",
    "    f\"ses-{ses_id}/func/sub-{sub_id}_ses-{ses_id}_task-{task_id}_acq-mb4_dir-RL_run-{run_id}\" \\\n",
    "    \"_space-T1w_desc-boldref_brainmask.nii.gz\"\n",
    ")\n",
    "bold_dtseries_path = Path(\n",
    "    f\"/data/fastfmri_toolbox_test_data/oscprep_grayords_fmapless/bold_preproc/sub-{sub_id}/\" \\\n",
    "    f\"ses-{ses_id}/func/sub-{sub_id}_ses-{ses_id}_task-{task_id}_acq-mb4_dir-RL_run-{run_id}\" \\\n",
    "    \"_desc-preproc_bold.dtseries.nii\"\n",
    ")\n",
    "\n",
    "for _path in [bold_nifti_path, mask_nifti_path,bold_dtseries_path]:\n",
    "    assert _path.exists(), f\"{_path} does not exist.\""
   ]
  },
  {
   "cell_type": "code",
   "execution_count": 4,
   "id": "6172fde7",
   "metadata": {},
   "outputs": [],
   "source": [
    "def create_temp_file(suffix):\n",
    "    import tempfile\n",
    "    temp_file = tempfile.NamedTemporaryFile(suffix=suffix, delete=False)\n",
    "    temp_file.close()\n",
    "    return temp_file.name\n",
    "\n",
    "def convert_niftis_to_ciftis(root_directory, template_cifti, TR):\n",
    "\n",
    "    import os\n",
    "    import glob\n",
    "\n",
    "    # Define the pattern to search for 'nii.gz' files\n",
    "    file_pattern = '**/*.nii.gz'\n",
    "\n",
    "    # Use glob to search for files matching the pattern in the directory tree\n",
    "    matching_files = glob.glob(os.path.join(root_directory, file_pattern), recursive=True)\n",
    "    \n",
    "    for nifti in matching_files:\n",
    "        if nifti.endswith('bold.nii.gz'):\n",
    "            cmd = f\"wb_command -cifti-convert -from-nifti {nifti} {template_cifti} {nifti.replace('.nii.gz','.dtseries.nii')} -reset-timepoints {TR} 0\"\n",
    "        else:\n",
    "            cmd = f\"wb_command -cifti-convert -from-nifti {nifti} {template_cifti} {nifti.replace('.nii.gz','.dscalar.nii')} -reset-scalars\"\n",
    "            \n",
    "        os.system(cmd)\n",
    "        os.system(f\"rm {nifti}\")\n",
    "\n",
    "    return matching_files\n",
    "\n",
    "def build_design_matrix(time_window, search_frequencies, bold_path, show_flag = False):\n",
    "    \n",
    "    from fastfmri_toolbox.modelling.design_matrix import DesignMatrix\n",
    "    from fastfmri_toolbox.modelling.design_matrix import (\n",
    "        FrequencyRegressors, \n",
    "        DriftRegressors\n",
    "    )\n",
    "    \n",
    "    dm = DesignMatrix(time_window, search_frequencies, bold_path = bold_path)\n",
    "    dm.add_regressor(FrequencyRegressors(search_frequencies, dm.time_points))\n",
    "    dm.add_regressor(DriftRegressors(dm.time_points, high_pass_threshold=.01, add_constant = True))\n",
    "    \n",
    "    design_matrix = dm.build_design_matrix()\n",
    "    n_regressors = design_matrix.shape[-1]\n",
    "    \n",
    "    if show_flag:\n",
    "        dm.plot_design_matrix()\n",
    "        \n",
    "    return design_matrix\n",
    "\n",
    "def run_glm(time_window, search_frequencies, bold_path, mask_path, image_type, design_matrix, outdir):\n",
    "    \n",
    "    import nibabel as nib\n",
    "    import numpy as np\n",
    "    \n",
    "    from fastfmri_toolbox.modelling.first_level_analysis import FirstLevelAnalysis\n",
    "    \n",
    "    from copy import copy\n",
    "    copy_bold_path = copy(bold_path)\n",
    "    \n",
    "    if image_type == 'CIFTI':\n",
    "        # Track all cmds in a list\n",
    "        workflows = []\n",
    "        # Check dtseries.nii exists\n",
    "        bold_dtseries_path = Path(str(bold_path).replace('space-T1w_','').replace('nii.gz','dtseries.nii'))\n",
    "        assert bold_dtseries_path.exists(), f\"{bold_dtseries_path} does not exist.\"        \n",
    "        # Convert cifti to dummy-nifti\n",
    "        tmp_bold_path = create_temp_file('.nii.gz')\n",
    "        _cmd = f\"wb_command -cifti-convert -to-nifti {bold_dtseries_path} {tmp_bold_path}\"\n",
    "        workflows.append(_cmd)\n",
    "        # rename `bold_path` to bids appropriate labelling\n",
    "        bold_path_stem = Path(copy_bold_path).stem.replace('nii',tmp_bold_path.split('/')[-1])\n",
    "        bold_path = Path(f\"/tmp/{bold_path_stem}\")\n",
    "        _cmd = f\"mv {tmp_bold_path} {bold_path}\"\n",
    "        workflows.append(_cmd)\n",
    "        # Create mask for dummy-nifti \n",
    "        mask_path = create_temp_file('.nii.gz')\n",
    "        _cmd = f\"fslmaths {bold_path} -Tmean -bin {mask_path}\"\n",
    "        workflows.append(_cmd)\n",
    "        \n",
    "        # Test mask\n",
    "        \"\"\"\n",
    "        mask_dtseries_path = create_temp_file('.dscalar.nii')\n",
    "        _cmd = f\"wb_command -cifti-convert -from-nifti {mask_path} {bold_dtseries_path} {mask_dtseries_path} -reset-scalars\"\n",
    "        workflows.append(_cmd)\n",
    "        \"\"\"\n",
    "        # Run\n",
    "        for cmd in workflows:\n",
    "            val = os.system(cmd)\n",
    "            if val == 0:\n",
    "                pass\n",
    "            else:\n",
    "                sys.exit(f\"Command error:\\n{cmd}\\nExiting.\")\n",
    "                \n",
    "        # Add an empty dimension back to `mask_path`\n",
    "        mask_img = nib.load(mask_path)\n",
    "        mask_data = mask_img.get_fdata()[:,:,np.newaxis]\n",
    "        mask_img = nib.Nifti1Image(mask_data, affine=mask_img.affine, header=mask_img.header)\n",
    "        nib.save(mask_img, mask_path)\n",
    "    \n",
    "    # Load TR\n",
    "    TR = float(nib.load(copy_bold_path).header.get_zooms()[-1])\n",
    "    \n",
    "    # Set-up first-level analysis\n",
    "    fla = FirstLevelAnalysis(\n",
    "        derivatives_dir = f\"{outdir}_{image_type}\",\n",
    "        bold_path = bold_path,\n",
    "        mask_path = mask_path,\n",
    "        design_matrix = design_matrix,\n",
    "        time_window = time_window,\n",
    "        search_frequencies = search_frequencies,\n",
    "        TR = TR,\n",
    "    )\n",
    "    \n",
    "    # Run\n",
    "    fla.run_frequency_glm(save_windowed_bold = True, save_predicted = True, save_residual = True,)\n",
    "    \n",
    "    if image_type == 'CIFTI':\n",
    "        # clean-up\n",
    "        convert_niftis_to_ciftis(f\"{outdir}_{image_type}\", bold_dtseries_path, TR)\n",
    "        for p in [bold_path, mask_path]:\n",
    "            os.system(f\"rm {p}\")"
   ]
  },
  {
   "cell_type": "code",
   "execution_count": 5,
   "id": "43a1c05b",
   "metadata": {
    "scrolled": false
   },
   "outputs": [
    {
     "name": "stdout",
     "output_type": "stream",
     "text": [
      "NIFTI\n"
     ]
    },
    {
     "name": "stderr",
     "output_type": "stream",
     "text": [
      "/usr/local/lib/python3.10/dist-packages/nilearn/glm/_utils.py:344: RuntimeWarning: divide by zero encountered in divide\n",
      "  return np.where(X <= 0, 0, 1.0 / X)\n"
     ]
    },
    {
     "name": "stdout",
     "output_type": "stream",
     "text": [
      "CIFTI\n",
      "CPU times: user 2min 7s, sys: 52.2 s, total: 2min 59s\n",
      "Wall time: 2min 8s\n"
     ]
    },
    {
     "data": {
      "image/png": "[encoded data removed]",
      "text/plain": [
       "<Figure size 400x800 with 1 Axes>"
      ]
     },
     "metadata": {},
     "output_type": "display_data"
    }
   ],
   "source": [
    "%%time\n",
    "\n",
    "# Build design matrix\n",
    "design_matrix = build_design_matrix(time_window, search_frequencies, bold_nifti_path, show_flag = True)\n",
    "\n",
    "# Fit and run frequency-based GLM\n",
    "for image_type in ['NIFTI','CIFTI']:\n",
    "    print(image_type)\n",
    "    run_glm(time_window, search_frequencies, bold_nifti_path, mask_nifti_path, image_type, design_matrix, out_dir)"
   ]
  },
  {
   "cell_type": "code",
   "execution_count": 6,
   "id": "c795b1d3",
   "metadata": {},
   "outputs": [
    {
     "name": "stdout",
     "output_type": "stream",
     "text": [
      "\u001b[01;34m/data/fastfmri_toolbox_test_data/oscprep_grayords_fmapless/first_level_analysis_CIFTI\u001b[0m\r\n",
      "└── \u001b[01;34msub-002\u001b[0m\r\n",
      "    └── \u001b[01;34mses-01\u001b[0m\r\n",
      "        └── \u001b[01;34mtask-entrainQ1\u001b[0m\r\n",
      "            └── \u001b[01;34mrun-01\u001b[0m\r\n",
      "                └── \u001b[01;34mGLM\u001b[0m\r\n",
      "                    ├── \u001b[00mbasis-cosine_f-0.125_effect_size.dscalar.nii\u001b[0m\r\n",
      "                    ├── \u001b[00mbasis-cosine_f-0.125_effect_variance.dscalar.nii\u001b[0m\r\n",
      "                    ├── \u001b[00mbasis-cosine_f-0.125_p_value.dscalar.nii\u001b[0m\r\n",
      "                    ├── \u001b[00mbasis-cosine_f-0.125_stat.dscalar.nii\u001b[0m\r\n",
      "                    ├── \u001b[00mbasis-cosine_f-0.125_z_score.dscalar.nii\u001b[0m\r\n",
      "                    ├── \u001b[00mbasis-cosine_f-0.2_effect_size.dscalar.nii\u001b[0m\r\n",
      "                    ├── \u001b[00mbasis-cosine_f-0.2_effect_variance.dscalar.nii\u001b[0m\r\n",
      "                    ├── \u001b[00mbasis-cosine_f-0.2_p_value.dscalar.nii\u001b[0m\r\n",
      "                    ├── \u001b[00mbasis-cosine_f-0.2_stat.dscalar.nii\u001b[0m\r\n",
      "                    ├── \u001b[00mbasis-cosine_f-0.2_z_score.dscalar.nii\u001b[0m\r\n",
      "                    ├── \u001b[00mbasis-sine_f-0.125_effect_size.dscalar.nii\u001b[0m\r\n",
      "                    ├── \u001b[00mbasis-sine_f-0.125_effect_variance.dscalar.nii\u001b[0m\r\n",
      "                    ├── \u001b[00mbasis-sine_f-0.125_p_value.dscalar.nii\u001b[0m\r\n",
      "                    ├── \u001b[00mbasis-sine_f-0.125_stat.dscalar.nii\u001b[0m\r\n",
      "                    ├── \u001b[00mbasis-sine_f-0.125_z_score.dscalar.nii\u001b[0m\r\n",
      "                    ├── \u001b[00mbasis-sine_f-0.2_effect_size.dscalar.nii\u001b[0m\r\n",
      "                    ├── \u001b[00mbasis-sine_f-0.2_effect_variance.dscalar.nii\u001b[0m\r\n",
      "                    ├── \u001b[00mbasis-sine_f-0.2_p_value.dscalar.nii\u001b[0m\r\n",
      "                    ├── \u001b[00mbasis-sine_f-0.2_stat.dscalar.nii\u001b[0m\r\n",
      "                    ├── \u001b[00mbasis-sine_f-0.2_z_score.dscalar.nii\u001b[0m\r\n",
      "                    ├── \u001b[00mfrequency-0.125_effect_size.dscalar.nii\u001b[0m\r\n",
      "                    ├── \u001b[00mfrequency-0.125_effect_variance.dscalar.nii\u001b[0m\r\n",
      "                    ├── \u001b[00mfrequency-0.125_p_value.dscalar.nii\u001b[0m\r\n",
      "                    ├── \u001b[00mfrequency-0.125_phasedelay.dscalar.nii\u001b[0m\r\n",
      "                    ├── \u001b[00mfrequency-0.125_stat.dscalar.nii\u001b[0m\r\n",
      "                    ├── \u001b[00mfrequency-0.125_z_score.dscalar.nii\u001b[0m\r\n",
      "                    ├── \u001b[00mfrequency-0.2_effect_size.dscalar.nii\u001b[0m\r\n",
      "                    ├── \u001b[00mfrequency-0.2_effect_variance.dscalar.nii\u001b[0m\r\n",
      "                    ├── \u001b[00mfrequency-0.2_p_value.dscalar.nii\u001b[0m\r\n",
      "                    ├── \u001b[00mfrequency-0.2_phasedelay.dscalar.nii\u001b[0m\r\n",
      "                    ├── \u001b[00mfrequency-0.2_stat.dscalar.nii\u001b[0m\r\n",
      "                    ├── \u001b[00mfrequency-0.2_z_score.dscalar.nii\u001b[0m\r\n",
      "                    ├── \u001b[00mpredicted_bold.dtseries.nii\u001b[0m\r\n",
      "                    ├── \u001b[00mresidual_bold.dtseries.nii\u001b[0m\r\n",
      "                    └── \u001b[00mwindowed_bold.dtseries.nii\u001b[0m\r\n",
      "\u001b[01;34m/data/fastfmri_toolbox_test_data/oscprep_grayords_fmapless/first_level_analysis_NIFTI\u001b[0m\r\n",
      "└── \u001b[01;34msub-002\u001b[0m\r\n",
      "    └── \u001b[01;34mses-01\u001b[0m\r\n",
      "        └── \u001b[01;34mtask-entrainQ1\u001b[0m\r\n",
      "            └── \u001b[01;34mrun-01\u001b[0m\r\n",
      "                └── \u001b[01;34mGLM\u001b[0m\r\n",
      "                    ├── \u001b[01;31mbasis-cosine_f-0.125_effect_size.nii.gz\u001b[0m\r\n",
      "                    ├── \u001b[01;31mbasis-cosine_f-0.125_effect_variance.nii.gz\u001b[0m\r\n",
      "                    ├── \u001b[01;31mbasis-cosine_f-0.125_p_value.nii.gz\u001b[0m\r\n",
      "                    ├── \u001b[01;31mbasis-cosine_f-0.125_stat.nii.gz\u001b[0m\r\n",
      "                    ├── \u001b[01;31mbasis-cosine_f-0.125_z_score.nii.gz\u001b[0m\r\n",
      "                    ├── \u001b[01;31mbasis-cosine_f-0.2_effect_size.nii.gz\u001b[0m\r\n",
      "                    ├── \u001b[01;31mbasis-cosine_f-0.2_effect_variance.nii.gz\u001b[0m\r\n",
      "                    ├── \u001b[01;31mbasis-cosine_f-0.2_p_value.nii.gz\u001b[0m\r\n",
      "                    ├── \u001b[01;31mbasis-cosine_f-0.2_stat.nii.gz\u001b[0m\r\n",
      "                    ├── \u001b[01;31mbasis-cosine_f-0.2_z_score.nii.gz\u001b[0m\r\n",
      "                    ├── \u001b[01;31mbasis-sine_f-0.125_effect_size.nii.gz\u001b[0m\r\n",
      "                    ├── \u001b[01;31mbasis-sine_f-0.125_effect_variance.nii.gz\u001b[0m\r\n",
      "                    ├── \u001b[01;31mbasis-sine_f-0.125_p_value.nii.gz\u001b[0m\r\n",
      "                    ├── \u001b[01;31mbasis-sine_f-0.125_stat.nii.gz\u001b[0m\r\n",
      "                    ├── \u001b[01;31mbasis-sine_f-0.125_z_score.nii.gz\u001b[0m\r\n",
      "                    ├── \u001b[01;31mbasis-sine_f-0.2_effect_size.nii.gz\u001b[0m\r\n",
      "                    ├── \u001b[01;31mbasis-sine_f-0.2_effect_variance.nii.gz\u001b[0m\r\n",
      "                    ├── \u001b[01;31mbasis-sine_f-0.2_p_value.nii.gz\u001b[0m\r\n",
      "                    ├── \u001b[01;31mbasis-sine_f-0.2_stat.nii.gz\u001b[0m\r\n",
      "                    ├── \u001b[01;31mbasis-sine_f-0.2_z_score.nii.gz\u001b[0m\r\n",
      "                    ├── \u001b[01;31mfrequency-0.125_effect_size.nii.gz\u001b[0m\r\n",
      "                    ├── \u001b[01;31mfrequency-0.125_effect_variance.nii.gz\u001b[0m\r\n",
      "                    ├── \u001b[01;31mfrequency-0.125_p_value.nii.gz\u001b[0m\r\n",
      "                    ├── \u001b[01;31mfrequency-0.125_phasedelay.nii.gz\u001b[0m\r\n",
      "                    ├── \u001b[01;31mfrequency-0.125_stat.nii.gz\u001b[0m\r\n",
      "                    ├── \u001b[01;31mfrequency-0.125_z_score.nii.gz\u001b[0m\r\n",
      "                    ├── \u001b[01;31mfrequency-0.2_effect_size.nii.gz\u001b[0m\r\n",
      "                    ├── \u001b[01;31mfrequency-0.2_effect_variance.nii.gz\u001b[0m\r\n",
      "                    ├── \u001b[01;31mfrequency-0.2_p_value.nii.gz\u001b[0m\r\n",
      "                    ├── \u001b[01;31mfrequency-0.2_phasedelay.nii.gz\u001b[0m\r\n",
      "                    ├── \u001b[01;31mfrequency-0.2_stat.nii.gz\u001b[0m\r\n",
      "                    ├── \u001b[01;31mfrequency-0.2_z_score.nii.gz\u001b[0m\r\n",
      "                    ├── \u001b[01;31mpredicted_bold.nii.gz\u001b[0m\r\n",
      "                    ├── \u001b[01;31mresidual_bold.nii.gz\u001b[0m\r\n",
      "                    └── \u001b[01;31mwindowed_bold.nii.gz\u001b[0m\r\n",
      "\r\n",
      "5 directories, 35 files\r\n"
     ]
    }
   ],
   "source": [
    "!tree /data/fastfmri_toolbox_test_data/oscprep_grayords_fmapless/first*"
   ]
  }
 ],
 "metadata": {
  "kernelspec": {
   "display_name": "Python 3 (ipykernel)",
   "language": "python",
   "name": "python3"
  },
  "language_info": {
   "codemirror_mode": {
    "name": "ipython",
    "version": 3
   },
   "file_extension": ".py",
   "mimetype": "text/x-python",
   "name": "python",
   "nbconvert_exporter": "python",
   "pygments_lexer": "ipython3",
   "version": "3.10.6"
  }
 },
 "nbformat": 4,
 "nbformat_minor": 5
}
