{
 "cells": [
  {
   "cell_type": "code",
   "execution_count": 2,
   "id": "4f713865",
   "metadata": {},
   "outputs": [],
   "source": [
    "from pathlib import Path\n",
    "from fla_utils import (\n",
    "    PathLoader, \n",
    "    search, \n",
    "    REGRESSOR_COMBINATIONS,\n",
    "    build_design_matrix,\n",
    "    run_glm,\n",
    "    extract_glm_metrics,\n",
    ")"
   ]
  },
  {
   "cell_type": "code",
   "execution_count": 8,
   "id": "7ee650f4-db74-41d8-8eb4-8f01df43a2fe",
   "metadata": {},
   "outputs": [
    {
     "name": "stdout",
     "output_type": "stream",
     "text": [
      "bold_preproc  brainmask  freesurfer  smriprep\n"
     ]
    }
   ],
   "source": [
    "!ls /data/1_frequency_tagging/7T/bids/derivatives/oscprep_grayords_fmapless"
   ]
  },
  {
   "cell_type": "code",
   "execution_count": null,
   "id": "7706d6bd",
   "metadata": {},
   "outputs": [
    {
     "name": "stdout",
     "output_type": "stream",
     "text": [
      "[01/16] [min] sub-002_ses-02_task-controlQ1_run-01\n",
      "Skipping.\n",
      "[02/16] [min] sub-002_ses-02_task-controlQ1_run-02\n",
      "Skipping.\n",
      "[03/16] [min] sub-002_ses-02_task-controlQ1_run-03\n",
      "Skipping.\n",
      "[04/16] [min] sub-002_ses-02_task-controlQ1_run-04\n",
      "Skipping.\n",
      "[05/16] [min] sub-002_ses-02_task-controlQ1_run-05\n",
      "Skipping.\n",
      "[06/16] [min] sub-002_ses-02_task-controlQ1_run-06\n",
      "Skipping.\n",
      "[07/16] [min] sub-002_ses-02_task-controlQ1_run-07\n",
      "Skipping.\n",
      "[08/16] [min] sub-002_ses-02_task-controlQ1_run-08\n",
      "Skipping.\n",
      "[09/16] [min] sub-002_ses-02_task-entrainQ1_run-01\n",
      "Skipping.\n",
      "[10/16] [min] sub-002_ses-02_task-entrainQ1_run-02\n",
      "Skipping.\n",
      "[11/16] [min] sub-002_ses-02_task-entrainQ1_run-03\n",
      "Skipping.\n",
      "[12/16] [min] sub-002_ses-02_task-entrainQ1_run-04\n",
      "Skipping.\n",
      "[13/16] [min] sub-002_ses-02_task-entrainQ1_run-05\n",
      "Skipping.\n",
      "[14/16] [min] sub-002_ses-02_task-entrainQ1_run-06\n",
      "Skipping.\n",
      "[15/16] [min] sub-002_ses-02_task-entrainQ1_run-07\n",
      "Skipping.\n",
      "[16/16] [min] sub-002_ses-02_task-entrainQ1_run-08\n",
      "Skipping.\n",
      "[01/16] [min+motion6] sub-002_ses-02_task-controlQ1_run-01\n",
      "Skipping.\n",
      "[02/16] [min+motion6] sub-002_ses-02_task-controlQ1_run-02\n",
      "Skipping.\n",
      "[03/16] [min+motion6] sub-002_ses-02_task-controlQ1_run-03\n",
      "Skipping.\n",
      "[04/16] [min+motion6] sub-002_ses-02_task-controlQ1_run-04\n",
      "Skipping.\n",
      "[05/16] [min+motion6] sub-002_ses-02_task-controlQ1_run-05\n",
      "Skipping.\n",
      "[06/16] [min+motion6] sub-002_ses-02_task-controlQ1_run-06\n",
      "Skipping.\n",
      "[07/16] [min+motion6] sub-002_ses-02_task-controlQ1_run-07\n",
      "Skipping.\n",
      "[08/16] [min+motion6] sub-002_ses-02_task-controlQ1_run-08\n",
      "Skipping.\n",
      "[09/16] [min+motion6] sub-002_ses-02_task-entrainQ1_run-01\n",
      "Skipping.\n",
      "[10/16] [min+motion6] sub-002_ses-02_task-entrainQ1_run-02\n",
      "Skipping.\n",
      "[11/16] [min+motion6] sub-002_ses-02_task-entrainQ1_run-03\n",
      "Skipping.\n",
      "[12/16] [min+motion6] sub-002_ses-02_task-entrainQ1_run-04\n",
      "Skipping.\n",
      "[13/16] [min+motion6] sub-002_ses-02_task-entrainQ1_run-05\n",
      "Skipping.\n",
      "[14/16] [min+motion6] sub-002_ses-02_task-entrainQ1_run-06\n",
      "Skipping.\n",
      "[15/16] [min+motion6] sub-002_ses-02_task-entrainQ1_run-07\n"
     ]
    },
    {
     "name": "stderr",
     "output_type": "stream",
     "text": [
      "/usr/local/lib/python3.10/dist-packages/nilearn/glm/_utils.py:344: RuntimeWarning: divide by zero encountered in divide\n",
      "  return np.where(X <= 0, 0, 1.0 / X)\n",
      "Warning: An input intended to be a single 3D volume has multiple timepoints. Input will be truncated to first volume, but this functionality is deprecated and will be removed in a future release.\n",
      "/usr/local/lib/python3.10/dist-packages/nilearn/glm/_utils.py:344: RuntimeWarning: divide by zero encountered in divide\n",
      "  return np.where(X <= 0, 0, 1.0 / X)\n"
     ]
    },
    {
     "name": "stdout",
     "output_type": "stream",
     "text": [
      "[16/16] [min+motion6] sub-002_ses-02_task-entrainQ1_run-08\n"
     ]
    },
    {
     "name": "stderr",
     "output_type": "stream",
     "text": [
      "/usr/local/lib/python3.10/dist-packages/nilearn/glm/_utils.py:344: RuntimeWarning: divide by zero encountered in divide\n",
      "  return np.where(X <= 0, 0, 1.0 / X)\n",
      "Warning: An input intended to be a single 3D volume has multiple timepoints. Input will be truncated to first volume, but this functionality is deprecated and will be removed in a future release.\n"
     ]
    },
    {
     "name": "stdout",
     "output_type": "stream",
     "text": [
      "[01/16] [min+motion24] sub-002_ses-02_task-controlQ1_run-01\n"
     ]
    },
    {
     "name": "stderr",
     "output_type": "stream",
     "text": [
      "/usr/local/lib/python3.10/dist-packages/nilearn/glm/_utils.py:344: RuntimeWarning: divide by zero encountered in divide\n",
      "  return np.where(X <= 0, 0, 1.0 / X)\n",
      "Warning: An input intended to be a single 3D volume has multiple timepoints. Input will be truncated to first volume, but this functionality is deprecated and will be removed in a future release.\n"
     ]
    },
    {
     "name": "stdout",
     "output_type": "stream",
     "text": [
      "[02/16] [min+motion24] sub-002_ses-02_task-controlQ1_run-02\n"
     ]
    },
    {
     "name": "stderr",
     "output_type": "stream",
     "text": [
      "/usr/local/lib/python3.10/dist-packages/nilearn/glm/_utils.py:344: RuntimeWarning: divide by zero encountered in divide\n",
      "  return np.where(X <= 0, 0, 1.0 / X)\n",
      "Warning: An input intended to be a single 3D volume has multiple timepoints. Input will be truncated to first volume, but this functionality is deprecated and will be removed in a future release.\n"
     ]
    },
    {
     "name": "stdout",
     "output_type": "stream",
     "text": [
      "[03/16] [min+motion24] sub-002_ses-02_task-controlQ1_run-03\n"
     ]
    },
    {
     "name": "stderr",
     "output_type": "stream",
     "text": [
      "/usr/local/lib/python3.10/dist-packages/nilearn/glm/_utils.py:344: RuntimeWarning: divide by zero encountered in divide\n",
      "  return np.where(X <= 0, 0, 1.0 / X)\n",
      "Warning: An input intended to be a single 3D volume has multiple timepoints. Input will be truncated to first volume, but this functionality is deprecated and will be removed in a future release.\n"
     ]
    },
    {
     "name": "stdout",
     "output_type": "stream",
     "text": [
      "[04/16] [min+motion24] sub-002_ses-02_task-controlQ1_run-04\n"
     ]
    },
    {
     "name": "stderr",
     "output_type": "stream",
     "text": [
      "/usr/local/lib/python3.10/dist-packages/nilearn/glm/_utils.py:344: RuntimeWarning: divide by zero encountered in divide\n",
      "  return np.where(X <= 0, 0, 1.0 / X)\n",
      "Warning: An input intended to be a single 3D volume has multiple timepoints. Input will be truncated to first volume, but this functionality is deprecated and will be removed in a future release.\n"
     ]
    },
    {
     "name": "stdout",
     "output_type": "stream",
     "text": [
      "[05/16] [min+motion24] sub-002_ses-02_task-controlQ1_run-05\n"
     ]
    },
    {
     "name": "stderr",
     "output_type": "stream",
     "text": [
      "/usr/local/lib/python3.10/dist-packages/nilearn/glm/_utils.py:344: RuntimeWarning: divide by zero encountered in divide\n",
      "  return np.where(X <= 0, 0, 1.0 / X)\n",
      "Warning: An input intended to be a single 3D volume has multiple timepoints. Input will be truncated to first volume, but this functionality is deprecated and will be removed in a future release.\n"
     ]
    },
    {
     "name": "stdout",
     "output_type": "stream",
     "text": [
      "[06/16] [min+motion24] sub-002_ses-02_task-controlQ1_run-06\n"
     ]
    },
    {
     "name": "stderr",
     "output_type": "stream",
     "text": [
      "/usr/local/lib/python3.10/dist-packages/nilearn/glm/_utils.py:344: RuntimeWarning: divide by zero encountered in divide\n",
      "  return np.where(X <= 0, 0, 1.0 / X)\n",
      "Warning: An input intended to be a single 3D volume has multiple timepoints. Input will be truncated to first volume, but this functionality is deprecated and will be removed in a future release.\n"
     ]
    },
    {
     "name": "stdout",
     "output_type": "stream",
     "text": [
      "[07/16] [min+motion24] sub-002_ses-02_task-controlQ1_run-07\n"
     ]
    },
    {
     "name": "stderr",
     "output_type": "stream",
     "text": [
      "/usr/local/lib/python3.10/dist-packages/nilearn/glm/_utils.py:344: RuntimeWarning: divide by zero encountered in divide\n",
      "  return np.where(X <= 0, 0, 1.0 / X)\n",
      "Warning: An input intended to be a single 3D volume has multiple timepoints. Input will be truncated to first volume, but this functionality is deprecated and will be removed in a future release.\n"
     ]
    },
    {
     "name": "stdout",
     "output_type": "stream",
     "text": [
      "[08/16] [min+motion24] sub-002_ses-02_task-controlQ1_run-08\n"
     ]
    },
    {
     "name": "stderr",
     "output_type": "stream",
     "text": [
      "/usr/local/lib/python3.10/dist-packages/nilearn/glm/_utils.py:344: RuntimeWarning: divide by zero encountered in divide\n",
      "  return np.where(X <= 0, 0, 1.0 / X)\n",
      "Warning: An input intended to be a single 3D volume has multiple timepoints. Input will be truncated to first volume, but this functionality is deprecated and will be removed in a future release.\n"
     ]
    },
    {
     "name": "stdout",
     "output_type": "stream",
     "text": [
      "[09/16] [min+motion24] sub-002_ses-02_task-entrainQ1_run-01\n"
     ]
    },
    {
     "name": "stderr",
     "output_type": "stream",
     "text": [
      "Warning: An input intended to be a single 3D volume has multiple timepoints. Input will be truncated to first volume, but this functionality is deprecated and will be removed in a future release.\n",
      "/usr/local/lib/python3.10/dist-packages/nilearn/glm/_utils.py:344: RuntimeWarning: divide by zero encountered in divide\n",
      "  return np.where(X <= 0, 0, 1.0 / X)\n"
     ]
    },
    {
     "name": "stdout",
     "output_type": "stream",
     "text": [
      "[10/16] [min+motion24] sub-002_ses-02_task-entrainQ1_run-02\n"
     ]
    },
    {
     "name": "stderr",
     "output_type": "stream",
     "text": [
      "/usr/local/lib/python3.10/dist-packages/nilearn/glm/_utils.py:344: RuntimeWarning: divide by zero encountered in divide\n",
      "  return np.where(X <= 0, 0, 1.0 / X)\n",
      "Warning: An input intended to be a single 3D volume has multiple timepoints. Input will be truncated to first volume, but this functionality is deprecated and will be removed in a future release.\n"
     ]
    },
    {
     "name": "stdout",
     "output_type": "stream",
     "text": [
      "[11/16] [min+motion24] sub-002_ses-02_task-entrainQ1_run-03\n"
     ]
    },
    {
     "name": "stderr",
     "output_type": "stream",
     "text": [
      "/usr/local/lib/python3.10/dist-packages/nilearn/glm/_utils.py:344: RuntimeWarning: divide by zero encountered in divide\n",
      "  return np.where(X <= 0, 0, 1.0 / X)\n",
      "Warning: An input intended to be a single 3D volume has multiple timepoints. Input will be truncated to first volume, but this functionality is deprecated and will be removed in a future release.\n"
     ]
    },
    {
     "name": "stdout",
     "output_type": "stream",
     "text": [
      "[12/16] [min+motion24] sub-002_ses-02_task-entrainQ1_run-04\n"
     ]
    },
    {
     "name": "stderr",
     "output_type": "stream",
     "text": [
      "/usr/local/lib/python3.10/dist-packages/nilearn/glm/_utils.py:344: RuntimeWarning: divide by zero encountered in divide\n",
      "  return np.where(X <= 0, 0, 1.0 / X)\n",
      "Warning: An input intended to be a single 3D volume has multiple timepoints. Input will be truncated to first volume, but this functionality is deprecated and will be removed in a future release.\n"
     ]
    },
    {
     "name": "stdout",
     "output_type": "stream",
     "text": [
      "[13/16] [min+motion24] sub-002_ses-02_task-entrainQ1_run-05\n"
     ]
    },
    {
     "name": "stderr",
     "output_type": "stream",
     "text": [
      "/usr/local/lib/python3.10/dist-packages/nilearn/glm/_utils.py:344: RuntimeWarning: divide by zero encountered in divide\n",
      "  return np.where(X <= 0, 0, 1.0 / X)\n",
      "Warning: An input intended to be a single 3D volume has multiple timepoints. Input will be truncated to first volume, but this functionality is deprecated and will be removed in a future release.\n"
     ]
    },
    {
     "name": "stdout",
     "output_type": "stream",
     "text": [
      "[14/16] [min+motion24] sub-002_ses-02_task-entrainQ1_run-06\n"
     ]
    },
    {
     "name": "stderr",
     "output_type": "stream",
     "text": [
      "/usr/local/lib/python3.10/dist-packages/nilearn/glm/_utils.py:344: RuntimeWarning: divide by zero encountered in divide\n",
      "  return np.where(X <= 0, 0, 1.0 / X)\n",
      "Warning: An input intended to be a single 3D volume has multiple timepoints. Input will be truncated to first volume, but this functionality is deprecated and will be removed in a future release.\n"
     ]
    },
    {
     "name": "stdout",
     "output_type": "stream",
     "text": [
      "[15/16] [min+motion24] sub-002_ses-02_task-entrainQ1_run-07\n"
     ]
    },
    {
     "name": "stderr",
     "output_type": "stream",
     "text": [
      "/usr/local/lib/python3.10/dist-packages/nilearn/glm/_utils.py:344: RuntimeWarning: divide by zero encountered in divide\n",
      "  return np.where(X <= 0, 0, 1.0 / X)\n",
      "Warning: An input intended to be a single 3D volume has multiple timepoints. Input will be truncated to first volume, but this functionality is deprecated and will be removed in a future release.\n"
     ]
    },
    {
     "name": "stdout",
     "output_type": "stream",
     "text": [
      "[16/16] [min+motion24] sub-002_ses-02_task-entrainQ1_run-08\n"
     ]
    },
    {
     "name": "stderr",
     "output_type": "stream",
     "text": [
      "/usr/local/lib/python3.10/dist-packages/nilearn/glm/_utils.py:344: RuntimeWarning: divide by zero encountered in divide\n",
      "  return np.where(X <= 0, 0, 1.0 / X)\n",
      "Warning: An input intended to be a single 3D volume has multiple timepoints. Input will be truncated to first volume, but this functionality is deprecated and will be removed in a future release.\n"
     ]
    },
    {
     "name": "stdout",
     "output_type": "stream",
     "text": [
      "[01/16] [min+motion6+wmcsf_mean] sub-002_ses-02_task-controlQ1_run-01\n"
     ]
    },
    {
     "name": "stderr",
     "output_type": "stream",
     "text": [
      "/usr/local/lib/python3.10/dist-packages/nilearn/glm/_utils.py:344: RuntimeWarning: divide by zero encountered in divide\n",
      "  return np.where(X <= 0, 0, 1.0 / X)\n",
      "Warning: An input intended to be a single 3D volume has multiple timepoints. Input will be truncated to first volume, but this functionality is deprecated and will be removed in a future release.\n"
     ]
    },
    {
     "name": "stdout",
     "output_type": "stream",
     "text": [
      "[02/16] [min+motion6+wmcsf_mean] sub-002_ses-02_task-controlQ1_run-02\n"
     ]
    },
    {
     "name": "stderr",
     "output_type": "stream",
     "text": [
      "/usr/local/lib/python3.10/dist-packages/nilearn/glm/_utils.py:344: RuntimeWarning: divide by zero encountered in divide\n",
      "  return np.where(X <= 0, 0, 1.0 / X)\n",
      "Warning: An input intended to be a single 3D volume has multiple timepoints. Input will be truncated to first volume, but this functionality is deprecated and will be removed in a future release.\n"
     ]
    },
    {
     "name": "stdout",
     "output_type": "stream",
     "text": [
      "[03/16] [min+motion6+wmcsf_mean] sub-002_ses-02_task-controlQ1_run-03\n"
     ]
    },
    {
     "name": "stderr",
     "output_type": "stream",
     "text": [
      "/usr/local/lib/python3.10/dist-packages/nilearn/glm/_utils.py:344: RuntimeWarning: divide by zero encountered in divide\n",
      "  return np.where(X <= 0, 0, 1.0 / X)\n",
      "Warning: An input intended to be a single 3D volume has multiple timepoints. Input will be truncated to first volume, but this functionality is deprecated and will be removed in a future release.\n"
     ]
    },
    {
     "name": "stdout",
     "output_type": "stream",
     "text": [
      "[04/16] [min+motion6+wmcsf_mean] sub-002_ses-02_task-controlQ1_run-04\n"
     ]
    },
    {
     "name": "stderr",
     "output_type": "stream",
     "text": [
      "/usr/local/lib/python3.10/dist-packages/nilearn/glm/_utils.py:344: RuntimeWarning: divide by zero encountered in divide\n",
      "  return np.where(X <= 0, 0, 1.0 / X)\n",
      "Warning: An input intended to be a single 3D volume has multiple timepoints. Input will be truncated to first volume, but this functionality is deprecated and will be removed in a future release.\n"
     ]
    },
    {
     "name": "stdout",
     "output_type": "stream",
     "text": [
      "[05/16] [min+motion6+wmcsf_mean] sub-002_ses-02_task-controlQ1_run-05\n"
     ]
    },
    {
     "name": "stderr",
     "output_type": "stream",
     "text": [
      "/usr/local/lib/python3.10/dist-packages/nilearn/glm/_utils.py:344: RuntimeWarning: divide by zero encountered in divide\n",
      "  return np.where(X <= 0, 0, 1.0 / X)\n",
      "Warning: An input intended to be a single 3D volume has multiple timepoints. Input will be truncated to first volume, but this functionality is deprecated and will be removed in a future release.\n"
     ]
    },
    {
     "name": "stdout",
     "output_type": "stream",
     "text": [
      "[06/16] [min+motion6+wmcsf_mean] sub-002_ses-02_task-controlQ1_run-06\n"
     ]
    },
    {
     "name": "stderr",
     "output_type": "stream",
     "text": [
      "/usr/local/lib/python3.10/dist-packages/nilearn/glm/_utils.py:344: RuntimeWarning: divide by zero encountered in divide\n",
      "  return np.where(X <= 0, 0, 1.0 / X)\n",
      "Warning: An input intended to be a single 3D volume has multiple timepoints. Input will be truncated to first volume, but this functionality is deprecated and will be removed in a future release.\n"
     ]
    },
    {
     "name": "stdout",
     "output_type": "stream",
     "text": [
      "[07/16] [min+motion6+wmcsf_mean] sub-002_ses-02_task-controlQ1_run-07\n"
     ]
    },
    {
     "name": "stderr",
     "output_type": "stream",
     "text": [
      "/usr/local/lib/python3.10/dist-packages/nilearn/glm/_utils.py:344: RuntimeWarning: divide by zero encountered in divide\n",
      "  return np.where(X <= 0, 0, 1.0 / X)\n",
      "Warning: An input intended to be a single 3D volume has multiple timepoints. Input will be truncated to first volume, but this functionality is deprecated and will be removed in a future release.\n"
     ]
    },
    {
     "name": "stdout",
     "output_type": "stream",
     "text": [
      "[08/16] [min+motion6+wmcsf_mean] sub-002_ses-02_task-controlQ1_run-08\n"
     ]
    },
    {
     "name": "stderr",
     "output_type": "stream",
     "text": [
      "/usr/local/lib/python3.10/dist-packages/nilearn/glm/_utils.py:344: RuntimeWarning: divide by zero encountered in divide\n",
      "  return np.where(X <= 0, 0, 1.0 / X)\n",
      "Warning: An input intended to be a single 3D volume has multiple timepoints. Input will be truncated to first volume, but this functionality is deprecated and will be removed in a future release.\n"
     ]
    },
    {
     "name": "stdout",
     "output_type": "stream",
     "text": [
      "[09/16] [min+motion6+wmcsf_mean] sub-002_ses-02_task-entrainQ1_run-01\n"
     ]
    },
    {
     "name": "stderr",
     "output_type": "stream",
     "text": [
      "Warning: An input intended to be a single 3D volume has multiple timepoints. Input will be truncated to first volume, but this functionality is deprecated and will be removed in a future release.\n",
      "/usr/local/lib/python3.10/dist-packages/nilearn/glm/_utils.py:344: RuntimeWarning: divide by zero encountered in divide\n",
      "  return np.where(X <= 0, 0, 1.0 / X)\n"
     ]
    },
    {
     "name": "stdout",
     "output_type": "stream",
     "text": [
      "[10/16] [min+motion6+wmcsf_mean] sub-002_ses-02_task-entrainQ1_run-02\n"
     ]
    },
    {
     "name": "stderr",
     "output_type": "stream",
     "text": [
      "/usr/local/lib/python3.10/dist-packages/nilearn/glm/_utils.py:344: RuntimeWarning: divide by zero encountered in divide\n",
      "  return np.where(X <= 0, 0, 1.0 / X)\n",
      "Warning: An input intended to be a single 3D volume has multiple timepoints. Input will be truncated to first volume, but this functionality is deprecated and will be removed in a future release.\n"
     ]
    },
    {
     "name": "stdout",
     "output_type": "stream",
     "text": [
      "[11/16] [min+motion6+wmcsf_mean] sub-002_ses-02_task-entrainQ1_run-03\n"
     ]
    },
    {
     "name": "stderr",
     "output_type": "stream",
     "text": [
      "/usr/local/lib/python3.10/dist-packages/nilearn/glm/_utils.py:344: RuntimeWarning: divide by zero encountered in divide\n",
      "  return np.where(X <= 0, 0, 1.0 / X)\n",
      "Warning: An input intended to be a single 3D volume has multiple timepoints. Input will be truncated to first volume, but this functionality is deprecated and will be removed in a future release.\n"
     ]
    },
    {
     "name": "stdout",
     "output_type": "stream",
     "text": [
      "[12/16] [min+motion6+wmcsf_mean] sub-002_ses-02_task-entrainQ1_run-04\n"
     ]
    },
    {
     "name": "stderr",
     "output_type": "stream",
     "text": [
      "/usr/local/lib/python3.10/dist-packages/nilearn/glm/_utils.py:344: RuntimeWarning: divide by zero encountered in divide\n",
      "  return np.where(X <= 0, 0, 1.0 / X)\n",
      "Warning: An input intended to be a single 3D volume has multiple timepoints. Input will be truncated to first volume, but this functionality is deprecated and will be removed in a future release.\n"
     ]
    },
    {
     "name": "stdout",
     "output_type": "stream",
     "text": [
      "[13/16] [min+motion6+wmcsf_mean] sub-002_ses-02_task-entrainQ1_run-05\n"
     ]
    },
    {
     "name": "stderr",
     "output_type": "stream",
     "text": [
      "/usr/local/lib/python3.10/dist-packages/nilearn/glm/_utils.py:344: RuntimeWarning: divide by zero encountered in divide\n",
      "  return np.where(X <= 0, 0, 1.0 / X)\n",
      "Warning: An input intended to be a single 3D volume has multiple timepoints. Input will be truncated to first volume, but this functionality is deprecated and will be removed in a future release.\n"
     ]
    },
    {
     "name": "stdout",
     "output_type": "stream",
     "text": [
      "[14/16] [min+motion6+wmcsf_mean] sub-002_ses-02_task-entrainQ1_run-06\n"
     ]
    },
    {
     "name": "stderr",
     "output_type": "stream",
     "text": [
      "/usr/local/lib/python3.10/dist-packages/nilearn/glm/_utils.py:344: RuntimeWarning: divide by zero encountered in divide\n",
      "  return np.where(X <= 0, 0, 1.0 / X)\n",
      "Warning: An input intended to be a single 3D volume has multiple timepoints. Input will be truncated to first volume, but this functionality is deprecated and will be removed in a future release.\n"
     ]
    },
    {
     "name": "stdout",
     "output_type": "stream",
     "text": [
      "[15/16] [min+motion6+wmcsf_mean] sub-002_ses-02_task-entrainQ1_run-07\n"
     ]
    },
    {
     "name": "stderr",
     "output_type": "stream",
     "text": [
      "/usr/local/lib/python3.10/dist-packages/nilearn/glm/_utils.py:344: RuntimeWarning: divide by zero encountered in divide\n",
      "  return np.where(X <= 0, 0, 1.0 / X)\n",
      "Warning: An input intended to be a single 3D volume has multiple timepoints. Input will be truncated to first volume, but this functionality is deprecated and will be removed in a future release.\n"
     ]
    },
    {
     "name": "stdout",
     "output_type": "stream",
     "text": [
      "[16/16] [min+motion6+wmcsf_mean] sub-002_ses-02_task-entrainQ1_run-08\n"
     ]
    },
    {
     "name": "stderr",
     "output_type": "stream",
     "text": [
      "/usr/local/lib/python3.10/dist-packages/nilearn/glm/_utils.py:344: RuntimeWarning: divide by zero encountered in divide\n",
      "  return np.where(X <= 0, 0, 1.0 / X)\n",
      "Warning: An input intended to be a single 3D volume has multiple timepoints. Input will be truncated to first volume, but this functionality is deprecated and will be removed in a future release.\n"
     ]
    },
    {
     "name": "stdout",
     "output_type": "stream",
     "text": [
      "[01/16] [min+motion24+wmcsf_mean] sub-002_ses-02_task-controlQ1_run-01\n"
     ]
    },
    {
     "name": "stderr",
     "output_type": "stream",
     "text": [
      "/usr/local/lib/python3.10/dist-packages/nilearn/glm/_utils.py:344: RuntimeWarning: divide by zero encountered in divide\n",
      "  return np.where(X <= 0, 0, 1.0 / X)\n",
      "Warning: An input intended to be a single 3D volume has multiple timepoints. Input will be truncated to first volume, but this functionality is deprecated and will be removed in a future release.\n"
     ]
    },
    {
     "name": "stdout",
     "output_type": "stream",
     "text": [
      "[02/16] [min+motion24+wmcsf_mean] sub-002_ses-02_task-controlQ1_run-02\n"
     ]
    },
    {
     "name": "stderr",
     "output_type": "stream",
     "text": [
      "/usr/local/lib/python3.10/dist-packages/nilearn/glm/_utils.py:344: RuntimeWarning: divide by zero encountered in divide\n",
      "  return np.where(X <= 0, 0, 1.0 / X)\n",
      "Warning: An input intended to be a single 3D volume has multiple timepoints. Input will be truncated to first volume, but this functionality is deprecated and will be removed in a future release.\n"
     ]
    },
    {
     "name": "stdout",
     "output_type": "stream",
     "text": [
      "[03/16] [min+motion24+wmcsf_mean] sub-002_ses-02_task-controlQ1_run-03\n"
     ]
    },
    {
     "name": "stderr",
     "output_type": "stream",
     "text": [
      "/usr/local/lib/python3.10/dist-packages/nilearn/glm/_utils.py:344: RuntimeWarning: divide by zero encountered in divide\n",
      "  return np.where(X <= 0, 0, 1.0 / X)\n",
      "Warning: An input intended to be a single 3D volume has multiple timepoints. Input will be truncated to first volume, but this functionality is deprecated and will be removed in a future release.\n"
     ]
    },
    {
     "name": "stdout",
     "output_type": "stream",
     "text": [
      "[04/16] [min+motion24+wmcsf_mean] sub-002_ses-02_task-controlQ1_run-04\n"
     ]
    },
    {
     "name": "stderr",
     "output_type": "stream",
     "text": [
      "/usr/local/lib/python3.10/dist-packages/nilearn/glm/_utils.py:344: RuntimeWarning: divide by zero encountered in divide\n",
      "  return np.where(X <= 0, 0, 1.0 / X)\n",
      "Warning: An input intended to be a single 3D volume has multiple timepoints. Input will be truncated to first volume, but this functionality is deprecated and will be removed in a future release.\n"
     ]
    },
    {
     "name": "stdout",
     "output_type": "stream",
     "text": [
      "[05/16] [min+motion24+wmcsf_mean] sub-002_ses-02_task-controlQ1_run-05\n"
     ]
    },
    {
     "name": "stderr",
     "output_type": "stream",
     "text": [
      "/usr/local/lib/python3.10/dist-packages/nilearn/glm/_utils.py:344: RuntimeWarning: divide by zero encountered in divide\n",
      "  return np.where(X <= 0, 0, 1.0 / X)\n",
      "Warning: An input intended to be a single 3D volume has multiple timepoints. Input will be truncated to first volume, but this functionality is deprecated and will be removed in a future release.\n"
     ]
    },
    {
     "name": "stdout",
     "output_type": "stream",
     "text": [
      "[06/16] [min+motion24+wmcsf_mean] sub-002_ses-02_task-controlQ1_run-06\n"
     ]
    },
    {
     "name": "stderr",
     "output_type": "stream",
     "text": [
      "/usr/local/lib/python3.10/dist-packages/nilearn/glm/_utils.py:344: RuntimeWarning: divide by zero encountered in divide\n",
      "  return np.where(X <= 0, 0, 1.0 / X)\n",
      "Warning: An input intended to be a single 3D volume has multiple timepoints. Input will be truncated to first volume, but this functionality is deprecated and will be removed in a future release.\n"
     ]
    },
    {
     "name": "stdout",
     "output_type": "stream",
     "text": [
      "[07/16] [min+motion24+wmcsf_mean] sub-002_ses-02_task-controlQ1_run-07\n"
     ]
    },
    {
     "name": "stderr",
     "output_type": "stream",
     "text": [
      "/usr/local/lib/python3.10/dist-packages/nilearn/glm/_utils.py:344: RuntimeWarning: divide by zero encountered in divide\n",
      "  return np.where(X <= 0, 0, 1.0 / X)\n",
      "Warning: An input intended to be a single 3D volume has multiple timepoints. Input will be truncated to first volume, but this functionality is deprecated and will be removed in a future release.\n"
     ]
    },
    {
     "name": "stdout",
     "output_type": "stream",
     "text": [
      "[08/16] [min+motion24+wmcsf_mean] sub-002_ses-02_task-controlQ1_run-08\n"
     ]
    },
    {
     "name": "stderr",
     "output_type": "stream",
     "text": [
      "/usr/local/lib/python3.10/dist-packages/nilearn/glm/_utils.py:344: RuntimeWarning: divide by zero encountered in divide\n",
      "  return np.where(X <= 0, 0, 1.0 / X)\n",
      "Warning: An input intended to be a single 3D volume has multiple timepoints. Input will be truncated to first volume, but this functionality is deprecated and will be removed in a future release.\n"
     ]
    },
    {
     "name": "stdout",
     "output_type": "stream",
     "text": [
      "[09/16] [min+motion24+wmcsf_mean] sub-002_ses-02_task-entrainQ1_run-01\n"
     ]
    },
    {
     "name": "stderr",
     "output_type": "stream",
     "text": [
      "Warning: An input intended to be a single 3D volume has multiple timepoints. Input will be truncated to first volume, but this functionality is deprecated and will be removed in a future release.\n",
      "/usr/local/lib/python3.10/dist-packages/nilearn/glm/_utils.py:344: RuntimeWarning: divide by zero encountered in divide\n",
      "  return np.where(X <= 0, 0, 1.0 / X)\n"
     ]
    },
    {
     "name": "stdout",
     "output_type": "stream",
     "text": [
      "[10/16] [min+motion24+wmcsf_mean] sub-002_ses-02_task-entrainQ1_run-02\n"
     ]
    },
    {
     "name": "stderr",
     "output_type": "stream",
     "text": [
      "/usr/local/lib/python3.10/dist-packages/nilearn/glm/_utils.py:344: RuntimeWarning: divide by zero encountered in divide\n",
      "  return np.where(X <= 0, 0, 1.0 / X)\n",
      "Warning: An input intended to be a single 3D volume has multiple timepoints. Input will be truncated to first volume, but this functionality is deprecated and will be removed in a future release.\n"
     ]
    },
    {
     "name": "stdout",
     "output_type": "stream",
     "text": [
      "[11/16] [min+motion24+wmcsf_mean] sub-002_ses-02_task-entrainQ1_run-03\n"
     ]
    },
    {
     "name": "stderr",
     "output_type": "stream",
     "text": [
      "/usr/local/lib/python3.10/dist-packages/nilearn/glm/_utils.py:344: RuntimeWarning: divide by zero encountered in divide\n",
      "  return np.where(X <= 0, 0, 1.0 / X)\n",
      "Warning: An input intended to be a single 3D volume has multiple timepoints. Input will be truncated to first volume, but this functionality is deprecated and will be removed in a future release.\n"
     ]
    },
    {
     "name": "stdout",
     "output_type": "stream",
     "text": [
      "[12/16] [min+motion24+wmcsf_mean] sub-002_ses-02_task-entrainQ1_run-04\n"
     ]
    },
    {
     "name": "stderr",
     "output_type": "stream",
     "text": [
      "/usr/local/lib/python3.10/dist-packages/nilearn/glm/_utils.py:344: RuntimeWarning: divide by zero encountered in divide\n",
      "  return np.where(X <= 0, 0, 1.0 / X)\n",
      "Warning: An input intended to be a single 3D volume has multiple timepoints. Input will be truncated to first volume, but this functionality is deprecated and will be removed in a future release.\n"
     ]
    },
    {
     "name": "stdout",
     "output_type": "stream",
     "text": [
      "[13/16] [min+motion24+wmcsf_mean] sub-002_ses-02_task-entrainQ1_run-05\n"
     ]
    },
    {
     "name": "stderr",
     "output_type": "stream",
     "text": [
      "/usr/local/lib/python3.10/dist-packages/nilearn/glm/_utils.py:344: RuntimeWarning: divide by zero encountered in divide\n",
      "  return np.where(X <= 0, 0, 1.0 / X)\n",
      "Warning: An input intended to be a single 3D volume has multiple timepoints. Input will be truncated to first volume, but this functionality is deprecated and will be removed in a future release.\n"
     ]
    },
    {
     "name": "stdout",
     "output_type": "stream",
     "text": [
      "[14/16] [min+motion24+wmcsf_mean] sub-002_ses-02_task-entrainQ1_run-06\n"
     ]
    },
    {
     "name": "stderr",
     "output_type": "stream",
     "text": [
      "/usr/local/lib/python3.10/dist-packages/nilearn/glm/_utils.py:344: RuntimeWarning: divide by zero encountered in divide\n",
      "  return np.where(X <= 0, 0, 1.0 / X)\n",
      "Warning: An input intended to be a single 3D volume has multiple timepoints. Input will be truncated to first volume, but this functionality is deprecated and will be removed in a future release.\n"
     ]
    },
    {
     "name": "stdout",
     "output_type": "stream",
     "text": [
      "[15/16] [min+motion24+wmcsf_mean] sub-002_ses-02_task-entrainQ1_run-07\n"
     ]
    },
    {
     "name": "stderr",
     "output_type": "stream",
     "text": [
      "/usr/local/lib/python3.10/dist-packages/nilearn/glm/_utils.py:344: RuntimeWarning: divide by zero encountered in divide\n",
      "  return np.where(X <= 0, 0, 1.0 / X)\n"
     ]
    }
   ],
   "source": [
    "# run parameters\n",
    "test_flag = False # flag to run test\n",
    "show_figures = False # flag to plot results in jupyter notebook\n",
    "oscprep_dir = \"/data/fastfmri_toolbox_test_data/3T/bids/derivatives/oscprep_grayords_fmapless\"\n",
    "base_out_dir = \"/data/fastfmri_toolbox_test_data/3T/bids/derivatives/oscprep_grayords_fmapless_fla\"\n",
    "sub_id = '002'\n",
    "ses_id = '02'\n",
    "search_frequencies = [.125, .2]\n",
    "time_window = (40, 14+205) # seconds\n",
    "\n",
    "# Get paths for all task runs\n",
    "subj_base_dir = f\"{oscprep_dir}/bold_preproc/sub-{sub_id}/ses-{ses_id}/func\"\n",
    "task_runs = search(subj_base_dir, f\"*task-[c,e]*_run-*_bold.nii.gz\")\n",
    "task_runs.sort()\n",
    "\n",
    "# Loop over various design matrix schemes\n",
    "for experiment_ix, dm_type in enumerate(REGRESSOR_COMBINATIONS.keys()):\n",
    "\n",
    "    # Set-up directory\n",
    "    out_dir=f\"{base_out_dir}/{str(experiment_ix).zfill(2)}_experiment-{dm_type}\"\n",
    "    \n",
    "    # Create figures directory\n",
    "    figures_dir = Path(f\"{out_dir}/NIFTI/figures\")\n",
    "    if not figures_dir.exists():\n",
    "        figures_dir.mkdir(parents=True)\n",
    "    \n",
    "    # Loop over every task run\n",
    "    for task_ix, task_run in enumerate(task_runs):\n",
    "        \n",
    "        # Exit when testing\n",
    "        if test_flag and task_ix > 0:\n",
    "            break\n",
    "\n",
    "        # Extract info from each path\n",
    "        stem = Path(task_run).stem\n",
    "        task_id = stem.split('task-')[1].split('_')[0]\n",
    "        run_id = stem.split('run-')[1].split('_')[0]\n",
    "        print(f\"[{str(task_ix+1).zfill(2)}/{str(len(task_runs)).zfill(2)}] [{dm_type}] sub-{sub_id}_ses-{ses_id}_task-{task_id}_run-{run_id}\")\n",
    "\n",
    "        # Skip if processed already\n",
    "        processed_flag = Path(f\"{out_dir}/NIFTI/sub-{sub_id}/ses-{ses_id}/task-{task_id}/run-{run_id}/GLM\").exists() and Path(f\"{out_dir}/CIFTI/sub-{sub_id}/ses-{ses_id}/task-{task_id}/run-{run_id}/GLM\").exists()\n",
    "        if processed_flag:\n",
    "            print(\"Skipping.\")\n",
    "            continue\n",
    "\n",
    "        # Instantiate path object\n",
    "        path_loader = PathLoader(\n",
    "            oscprep_dir,\n",
    "            sub_id, \n",
    "            ses_id,\n",
    "            task_id,\n",
    "            run_id\n",
    "        )\n",
    "\n",
    "        # Build and save design matrix\n",
    "        design_matrix, dm_fig = build_design_matrix(\n",
    "            path_loader,\n",
    "            time_window, \n",
    "            search_frequencies, \n",
    "            dm_type,\n",
    "            show_flag = show_figures\n",
    "        )\n",
    "        dm_fig.savefig(f\"{figures_dir}/sub-{path_loader.sub_id}_ses-{path_loader.ses_id}_task-{path_loader.task_id}_run-{path_loader.run_id}_DM.png\")\n",
    "        \n",
    "\n",
    "        # Fit and run frequency-based GLM on NIFTI and CIFTI data\n",
    "        for image_type in ['NIFTI','CIFTI']:\n",
    "            run_glm(\n",
    "                path_loader,\n",
    "                time_window, \n",
    "                search_frequencies, \n",
    "                image_type, \n",
    "                design_matrix, \n",
    "                out_dir\n",
    "            )\n",
    "            # Visualize GLM results of NIFTI data\n",
    "            if image_type == 'NIFTI':\n",
    "                extract_glm_metrics(\n",
    "                    path_loader,\n",
    "                    f\"{out_dir}/NIFTI\",\n",
    "                    figures_dir,\n",
    "                    roi = \"/data/fastfmri_toolbox_test_data/rois/roi-calcarine_space-MNI152NLin2009cAsym.nii.gz\",\n",
    "                    show_plots=show_figures,\n",
    "                )"
   ]
  },
  {
   "cell_type": "code",
   "execution_count": null,
   "id": "55aef9d7",
   "metadata": {},
   "outputs": [],
   "source": []
  }
 ],
 "metadata": {
  "kernelspec": {
   "display_name": "Python 3 (ipykernel)",
   "language": "python",
   "name": "python3"
  },
  "language_info": {
   "codemirror_mode": {
    "name": "ipython",
    "version": 3
   },
   "file_extension": ".py",
   "mimetype": "text/x-python",
   "name": "python",
   "nbconvert_exporter": "python",
   "pygments_lexer": "ipython3",
   "version": "3.10.6"
  }
 },
 "nbformat": 4,
 "nbformat_minor": 5
}
